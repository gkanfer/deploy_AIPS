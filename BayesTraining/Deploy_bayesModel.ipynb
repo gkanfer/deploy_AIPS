{
 "cells": [
  {
   "cell_type": "markdown",
   "id": "02a77584",
   "metadata": {},
   "source": [
    "<H1><center> Deploy bayes' granularity binary classification model <center/><H1/>"
   ]
  },
  {
   "cell_type": "markdown",
   "id": "059bc770",
   "metadata": {},
   "source": [
    "<H4><center>AIPS program for calling pex phenotype.</center></H3>\n",
    "<p>Segmentation: cellPose</p>\n",
    "<br>\n",
    "<p>calling: Bayes' granularity</p><br>\n",
    "<br>\n",
    "<br>\n",
    "<p>NIS-elementas outproc command:<p>\n",
    "    <br>\n",
    "<p>@echo on</p>\n",
    "<p>call D:\\Gil\\anaconda_gil\\Scripts\\activate.bat</p><br>\n",
    "<p>call activate py37</p><br>\n",
    "<p>call python D:\\Gil\\AIPS\\Activate_nuclus\\example_image\\run_aips_batch.py</p><br>\n",
    "<p>\n",
    "@pause\n",
    "<p\\>"
   ]
  },
  {
   "cell_type": "code",
   "execution_count": 2,
   "id": "ad1e926a",
   "metadata": {},
   "outputs": [
    {
     "name": "stderr",
     "output_type": "stream",
     "text": [
      "F:\\Gil\\anaconda\\envs\\pymc3_cellpose_dash\\lib\\site-packages\\tqdm\\auto.py:22: TqdmWarning: IProgress not found. Please update jupyter and ipywidgets. See https://ipywidgets.readthedocs.io/en/stable/user_install.html\n",
      "  from .autonotebook import tqdm as notebook_tqdm\n",
      "F:\\Gil\\anaconda\\envs\\pymc3_cellpose_dash\\lib\\site-packages\\skimage\\viewer\\utils\\__init__.py:1: UserWarning: Recommended matplotlib backend is `Agg` for full skimage.viewer functionality.\n",
      "  from .core import *\n"
     ]
    }
   ],
   "source": [
    "import time, os, sys\n",
    "# from tensorflow.keras.preprocessing.image import ImageDataGenerator, load_img, img_to_array, array_to_img\n",
    "# from tensorflow.keras.models import load_model\n",
    "# import matplotlib.pyplot as plt\n",
    "import matplotlib.pyplot as plt\n",
    "import numpy as np\n",
    "import tifffile as tfi\n",
    "import random\n",
    "os.chdir(r'F:\\HAB_2\\PrinzScreen\\Deploy')\n",
    "from utils import AIPS_cellpose as AC\n",
    "from utils import AIPS_granularity as ag"
   ]
  },
  {
   "cell_type": "markdown",
   "id": "34982a9a",
   "metadata": {},
   "source": [
    "For the test I am going to use this file and path:\\\n",
    "file = 'Cropexp001_13DKO_1-1.tif'\\\n",
    "path_input = r'F:\\HAB_2\\PrinzScreen\\Deploy\\unitest\\mix'\\"
   ]
  },
  {
   "cell_type": "markdown",
   "id": "f5bce087",
   "metadata": {},
   "source": [
    "<!-- # For the test I am going to use this file and path:\n",
    "# file = 'Cropexp001_13DKO_1-1.tif'\n",
    "# path_input = r'F:\\HAB_2\\PrinzScreen\\Deploy\\unitest\\mix' -->"
   ]
  },
  {
   "cell_type": "code",
   "execution_count": 3,
   "id": "0097fcf9",
   "metadata": {},
   "outputs": [],
   "source": [
    "file = 'Cropexp001_13DKO_1-1.tif'\n",
    "path_input = r'F:\\HAB_2\\PrinzScreen\\Deploy\\unitest\\mix'"
   ]
  },
  {
   "cell_type": "code",
   "execution_count": 5,
   "id": "04933b81",
   "metadata": {},
   "outputs": [
    {
     "data": {
      "text/plain": [
       "array([[2957, 4108, 5021, ...,  751,  750,  887],\n",
       "       [2640, 3297, 4406, ...,  665,  691,  811],\n",
       "       [2563, 3049, 4095, ...,  600,  648,  748],\n",
       "       ...,\n",
       "       [1961, 1984, 2137, ..., 2703, 2430, 2254],\n",
       "       [1892, 1883, 2030, ..., 2750, 2432, 2181],\n",
       "       [2030, 1955, 1886, ..., 2785, 2417, 2563]], dtype=uint16)"
      ]
     },
     "execution_count": 5,
     "metadata": {},
     "output_type": "execute_result"
    }
   ],
   "source": [
    "# file = 'input.tif'\n",
    "# path_input = r'D:\\Gil\\AIPS\\Activate_nuclus\\example_image'\n",
    "path_out = path_input\n",
    "\n",
    "#upload model\n",
    "AIPS_pose_object = AC.AIPS_cellpose(Image_name = file, path= path_input, model_type=\"cyto\", channels=[0,0])\n",
    "img = AIPS_pose_object.cellpose_image_load()\n",
    "\n",
    "# create mask for the entire image\n",
    "mask, table = AIPS_pose_object.cellpose_segmantation(image_input=img)\n",
    "tfi.imread(os.path.join(path_input,file))\n"
   ]
  },
  {
   "cell_type": "code",
   "execution_count": 6,
   "id": "b0dfb5c9",
   "metadata": {},
   "outputs": [
    {
     "data": {
      "text/html": [
       "<div>\n",
       "<style scoped>\n",
       "    .dataframe tbody tr th:only-of-type {\n",
       "        vertical-align: middle;\n",
       "    }\n",
       "\n",
       "    .dataframe tbody tr th {\n",
       "        vertical-align: top;\n",
       "    }\n",
       "\n",
       "    .dataframe thead th {\n",
       "        text-align: right;\n",
       "    }\n",
       "</style>\n",
       "<table border=\"1\" class=\"dataframe\">\n",
       "  <thead>\n",
       "    <tr style=\"text-align: right;\">\n",
       "      <th></th>\n",
       "      <th>area</th>\n",
       "      <th>centroid-0</th>\n",
       "      <th>centroid-1</th>\n",
       "    </tr>\n",
       "    <tr>\n",
       "      <th>label</th>\n",
       "      <th></th>\n",
       "      <th></th>\n",
       "      <th></th>\n",
       "    </tr>\n",
       "  </thead>\n",
       "  <tbody>\n",
       "    <tr>\n",
       "      <th>1</th>\n",
       "      <td>2058</td>\n",
       "      <td>13.890185</td>\n",
       "      <td>33.146259</td>\n",
       "    </tr>\n",
       "    <tr>\n",
       "      <th>2</th>\n",
       "      <td>2801</td>\n",
       "      <td>24.455195</td>\n",
       "      <td>139.200286</td>\n",
       "    </tr>\n",
       "    <tr>\n",
       "      <th>3</th>\n",
       "      <td>3629</td>\n",
       "      <td>14.991182</td>\n",
       "      <td>287.154037</td>\n",
       "    </tr>\n",
       "    <tr>\n",
       "      <th>4</th>\n",
       "      <td>3724</td>\n",
       "      <td>25.030075</td>\n",
       "      <td>425.358217</td>\n",
       "    </tr>\n",
       "    <tr>\n",
       "      <th>5</th>\n",
       "      <td>4512</td>\n",
       "      <td>38.119016</td>\n",
       "      <td>488.308954</td>\n",
       "    </tr>\n",
       "    <tr>\n",
       "      <th>...</th>\n",
       "      <td>...</td>\n",
       "      <td>...</td>\n",
       "      <td>...</td>\n",
       "    </tr>\n",
       "    <tr>\n",
       "      <th>200</th>\n",
       "      <td>1773</td>\n",
       "      <td>976.336717</td>\n",
       "      <td>17.333333</td>\n",
       "    </tr>\n",
       "    <tr>\n",
       "      <th>201</th>\n",
       "      <td>3710</td>\n",
       "      <td>978.888949</td>\n",
       "      <td>168.351752</td>\n",
       "    </tr>\n",
       "    <tr>\n",
       "      <th>202</th>\n",
       "      <td>2697</td>\n",
       "      <td>981.973674</td>\n",
       "      <td>299.317390</td>\n",
       "    </tr>\n",
       "    <tr>\n",
       "      <th>203</th>\n",
       "      <td>1619</td>\n",
       "      <td>986.285979</td>\n",
       "      <td>80.318098</td>\n",
       "    </tr>\n",
       "    <tr>\n",
       "      <th>204</th>\n",
       "      <td>1593</td>\n",
       "      <td>988.170119</td>\n",
       "      <td>910.247960</td>\n",
       "    </tr>\n",
       "  </tbody>\n",
       "</table>\n",
       "<p>204 rows × 3 columns</p>\n",
       "</div>"
      ],
      "text/plain": [
       "       area  centroid-0  centroid-1\n",
       "label                              \n",
       "1      2058   13.890185   33.146259\n",
       "2      2801   24.455195  139.200286\n",
       "3      3629   14.991182  287.154037\n",
       "4      3724   25.030075  425.358217\n",
       "5      4512   38.119016  488.308954\n",
       "...     ...         ...         ...\n",
       "200    1773  976.336717   17.333333\n",
       "201    3710  978.888949  168.351752\n",
       "202    2697  981.973674  299.317390\n",
       "203    1619  986.285979   80.318098\n",
       "204    1593  988.170119  910.247960\n",
       "\n",
       "[204 rows x 3 columns]"
      ]
     },
     "execution_count": 6,
     "metadata": {},
     "output_type": "execute_result"
    }
   ],
   "source": [
    "gran = ag.GRANULARITY(image =img[1],mask = target )\n",
    "granData = gran.loopLabelimage(start_kernel = 2 , end_karnel = 5, kernel_size=5)"
   ]
  },
  {
   "cell_type": "code",
   "execution_count": null,
   "id": "0181a274",
   "metadata": {},
   "outputs": [],
   "source": [
    "# baysian prediction"
   ]
  },
  {
   "cell_type": "code",
   "execution_count": null,
   "id": "5c68598c",
   "metadata": {},
   "outputs": [],
   "source": [
    "\n",
    "table[\"predict\"] = 0.7\n",
    "table_na_rmv = table.sample(frac=1)[:5]\n",
    "\n",
    "image_blank = np.zeros_like(img)\n",
    "binary, table_sel = AIPS_pose_object.call_bin(table_sel_cor = table_na_rmv, threshold = 0.5 ,img_blank = image_blank)\n",
    "from skimage import io, filters, measure, color, img_as_ubyte\n",
    "from PIL import Image, ImageEnhance, ImageDraw,ImageFont\n",
    "import matplotlib.pyplot as plt\n",
    "#plt.imshow(binary)\n",
    "img_gs = img_as_ubyte(binary)\n",
    "# from skimage.measure import label, regionprops\n",
    "# img_gs = label(img_gs)\n",
    "if os.path.exists(os.path.join(path_out, 'binary.tif')):\n",
    "    os.remove(os.path.join(path_out, 'binary.tif'))\n",
    "tfi.imsave(os.path.join(path_out, 'binary.tif'), img_gs)\n",
    "\n",
    "with open(os.path.join(path_out, 'cell_count.txt'), 'r') as f:\n",
    "    prev_number = f.readlines()\n",
    "new_value = int(prev_number[0]) + len(table_na_rmv)\n",
    "with open(os.path.join(path_out, 'cell_count.txt'), 'w') as f:\n",
    "    f.write(str(new_value))"
   ]
  }
 ],
 "metadata": {
  "kernelspec": {
   "display_name": "Python [conda env:pymc3_cellpose_dash] *",
   "language": "python",
   "name": "conda-env-pymc3_cellpose_dash-py"
  },
  "language_info": {
   "codemirror_mode": {
    "name": "ipython",
    "version": 3
   },
   "file_extension": ".py",
   "mimetype": "text/x-python",
   "name": "python",
   "nbconvert_exporter": "python",
   "pygments_lexer": "ipython3",
   "version": "3.7.12"
  },
  "latex_envs": {
   "LaTeX_envs_menu_present": true,
   "autoclose": false,
   "autocomplete": true,
   "bibliofile": "biblio.bib",
   "cite_by": "apalike",
   "current_citInitial": 1,
   "eqLabelWithNumbers": true,
   "eqNumInitial": 1,
   "hotkeys": {
    "equation": "Ctrl-E",
    "itemize": "Ctrl-I"
   },
   "labels_anchors": false,
   "latex_user_defs": false,
   "report_style_numbering": false,
   "user_envs_cfg": false
  }
 },
 "nbformat": 4,
 "nbformat_minor": 5
}
