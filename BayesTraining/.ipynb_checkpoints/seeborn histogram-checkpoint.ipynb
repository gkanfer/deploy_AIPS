{
 "cells": [
  {
   "cell_type": "markdown",
   "id": "95c994e6",
   "metadata": {},
   "source": [
    "<H1><center> Measure granularity using cellpose segmentation </center></H1>\n",
    "<p> The goal here is to calculate granularity from input image. The measure will be used late for training a bayes' model. "
   ]
  },
  {
   "cell_type": "code",
   "execution_count": 17,
   "id": "94228b19",
   "metadata": {},
   "outputs": [],
   "source": [
    "import matplotlib.pyplot as plt\n",
    "import tifffile as tfi\n",
    "import numpy as np\n",
    "from PIL import Image\n",
    "import plotly.express as px\n",
    "from skimage.filters import threshold_local\n",
    "from scipy.ndimage.morphology import binary_opening\n",
    "from skimage import io, filters, measure, color, img_as_ubyte\n",
    "import skimage.morphology as sm\n",
    "from skimage.segmentation import watershed\n",
    "from skimage import measure\n",
    "from skimage.exposure import rescale_intensity\n",
    "import os\n",
    "import pandas as pd\n",
    "from scipy.ndimage.morphology import binary_fill_holes\n",
    "import base64\n",
    "from datetime import datetime\n",
    "import timeit\n",
    "import glob\n",
    "import seaborn as sns\n",
    "os.chdir(r'F:\\HAB_2\\PrinzScreen\\Deploy')\n",
    "from utils import AIPS_module as ai\n",
    "from utils import AIPS_functions as af\n",
    "from utils import AIPS_granularity as ag\n",
    "from utils import AIPS_file_display as afd\n",
    "from utils import AIPS_cellpose as AC"
   ]
  },
  {
   "cell_type": "code",
   "execution_count": 14,
   "id": "38a69cd5",
   "metadata": {},
   "outputs": [],
   "source": [
    "path_input = r'F:\\HAB_2\\PrinzScreen\\Deploy\\testData'\n",
    "file = 'exp001_13DKO_2-1.tif'\n",
    "\n",
    "AIPS_pose_object = AC.AIPS_cellpose(Image_name = file, path= path_input, model_type=\"cyto\", channels=[0,0])\n",
    "img = AIPS_pose_object.cellpose_image_load()\n",
    "\n",
    "# create mask for the entire image\n",
    "mask, table = AIPS_pose_object.cellpose_segmantation(image_input=img[0])"
   ]
  },
  {
   "cell_type": "code",
   "execution_count": 25,
   "id": "523ae1dc",
   "metadata": {},
   "outputs": [
    {
     "data": {
      "text/html": [
       "<svg  width=\"440\" height=\"55\"><rect x=\"0\" y=\"0\" width=\"55\" height=\"55\" style=\"fill:#66c2a5;stroke-width:2;stroke:rgb(255,255,255)\"/><rect x=\"55\" y=\"0\" width=\"55\" height=\"55\" style=\"fill:#fc8d62;stroke-width:2;stroke:rgb(255,255,255)\"/><rect x=\"110\" y=\"0\" width=\"55\" height=\"55\" style=\"fill:#8da0cb;stroke-width:2;stroke:rgb(255,255,255)\"/><rect x=\"165\" y=\"0\" width=\"55\" height=\"55\" style=\"fill:#e78ac3;stroke-width:2;stroke:rgb(255,255,255)\"/><rect x=\"220\" y=\"0\" width=\"55\" height=\"55\" style=\"fill:#a6d854;stroke-width:2;stroke:rgb(255,255,255)\"/><rect x=\"275\" y=\"0\" width=\"55\" height=\"55\" style=\"fill:#ffd92f;stroke-width:2;stroke:rgb(255,255,255)\"/><rect x=\"330\" y=\"0\" width=\"55\" height=\"55\" style=\"fill:#e5c494;stroke-width:2;stroke:rgb(255,255,255)\"/><rect x=\"385\" y=\"0\" width=\"55\" height=\"55\" style=\"fill:#b3b3b3;stroke-width:2;stroke:rgb(255,255,255)\"/></svg>"
      ],
      "text/plain": [
       "[(0.4, 0.7607843137254902, 0.6470588235294118),\n",
       " (0.9882352941176471, 0.5529411764705883, 0.3843137254901961),\n",
       " (0.5529411764705883, 0.6274509803921569, 0.796078431372549),\n",
       " (0.9058823529411765, 0.5411764705882353, 0.7647058823529411),\n",
       " (0.6509803921568628, 0.8470588235294118, 0.32941176470588235),\n",
       " (1.0, 0.8509803921568627, 0.1843137254901961),\n",
       " (0.8980392156862745, 0.7686274509803922, 0.5803921568627451),\n",
       " (0.7019607843137254, 0.7019607843137254, 0.7019607843137254)]"
      ]
     },
     "execution_count": 25,
     "metadata": {},
     "output_type": "execute_result"
    }
   ],
   "source": [
    "sns.color_palette(\"Set2\")"
   ]
  },
  {
   "cell_type": "code",
   "execution_count": 28,
   "id": "078d1a55",
   "metadata": {},
   "outputs": [
    {
     "data": {
      "text/plain": [
       "<AxesSubplot:xlabel='area', ylabel='Count'>"
      ]
     },
     "execution_count": 28,
     "metadata": {},
     "output_type": "execute_result"
    },
    {
     "data": {
      "image/png": "[encoded data removed]",
      "text/plain": [
       "<Figure size 432x288 with 1 Axes>"
      ]
     },
     "metadata": {},
     "output_type": "display_data"
    }
   ],
   "source": [
    "sns.set()\n",
    "sns.histplot(data = table, x = 'area', kde = True,color = sns.color_palette(\"Set2\")[1],binwidth = 500)"
   ]
  },
  {
   "cell_type": "code",
   "execution_count": null,
   "id": "fab0c0f1",
   "metadata": {},
   "outputs": [],
   "source": []
  }
 ],
 "metadata": {
  "kernelspec": {
   "display_name": "Python [conda env:pymc3_cellpose_dash] *",
   "language": "python",
   "name": "conda-env-pymc3_cellpose_dash-py"
  },
  "language_info": {
   "codemirror_mode": {
    "name": "ipython",
    "version": 3
   },
   "file_extension": ".py",
   "mimetype": "text/x-python",
   "name": "python",
   "nbconvert_exporter": "python",
   "pygments_lexer": "ipython3",
   "version": "3.7.12"
  },
  "latex_envs": {
   "LaTeX_envs_menu_present": true,
   "autoclose": false,
   "autocomplete": true,
   "bibliofile": "biblio.bib",
   "cite_by": "apalike",
   "current_citInitial": 1,
   "eqLabelWithNumbers": true,
   "eqNumInitial": 1,
   "hotkeys": {
    "equation": "Ctrl-E",
    "itemize": "Ctrl-I"
   },
   "labels_anchors": false,
   "latex_user_defs": false,
   "report_style_numbering": false,
   "user_envs_cfg": false
  }
 },
 "nbformat": 4,
 "nbformat_minor": 5
}
