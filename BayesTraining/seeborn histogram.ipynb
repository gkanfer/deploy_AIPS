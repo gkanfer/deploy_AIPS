{
 "cells": [
  {
   "cell_type": "markdown",
   "id": "fbf3d182",
   "metadata": {},
   "source": [
    "<H1><center> Measure granularity using cellpose segmentation </center></H1>\n",
    "<p> The goal here is to calculate granularity from input image. The measure will be used late for training a bayes' model. "
   ]
  },
  {
   "cell_type": "code",
   "execution_count": 1,
   "id": "3169b27f",
   "metadata": {},
   "outputs": [
    {
     "name": "stderr",
     "output_type": "stream",
     "text": [
      "F:\\Gil\\anaconda\\envs\\pymc3_cellpose_dash\\lib\\site-packages\\skimage\\viewer\\utils\\__init__.py:1: UserWarning: Recommended matplotlib backend is `Agg` for full skimage.viewer functionality.\n",
      "  from .core import *\n",
      "F:\\Gil\\anaconda\\envs\\pymc3_cellpose_dash\\lib\\site-packages\\tqdm\\auto.py:22: TqdmWarning: IProgress not found. Please update jupyter and ipywidgets. See https://ipywidgets.readthedocs.io/en/stable/user_install.html\n",
      "  from .autonotebook import tqdm as notebook_tqdm\n"
     ]
    }
   ],
   "source": [
    "import matplotlib.pyplot as plt\n",
    "import tifffile as tfi\n",
    "import numpy as np\n",
    "from PIL import Image\n",
    "import plotly.express as px\n",
    "from skimage.filters import threshold_local\n",
    "from scipy.ndimage.morphology import binary_opening\n",
    "from skimage import io, filters, measure, color, img_as_ubyte\n",
    "import skimage.morphology as sm\n",
    "from skimage.segmentation import watershed\n",
    "from skimage import measure\n",
    "from skimage.exposure import rescale_intensity\n",
    "import os\n",
    "import pandas as pd\n",
    "from scipy.ndimage.morphology import binary_fill_holes\n",
    "import base64\n",
    "from datetime import datetime\n",
    "import timeit\n",
    "import glob\n",
    "import seaborn as sns\n",
    "os.chdir(r'F:\\HAB_2\\PrinzScreen\\Deploy')\n",
    "from utils import AIPS_module as ai\n",
    "from utils import AIPS_functions as af\n",
    "from utils import AIPS_granularity as ag\n",
    "from utils import AIPS_file_display as afd\n",
    "from utils import AIPS_cellpose as AC"
   ]
  },
  {
   "cell_type": "code",
   "execution_count": 34,
   "id": "e510bc02",
   "metadata": {},
   "outputs": [],
   "source": [
    "path_input = r'F:\\HAB_2\\PrinzScreen\\Deploy\\testData'\n",
    "pathOut = r'F:\\HAB_2\\PrinzScreen\\Deploy\\out'\n",
    "file = 'crop_exp001_13DKO_2-1.tif'\n",
    "AIPS_pose_object = AC.AIPS_cellpose(Image_name=file, path=path_input, model_type=\"cyto\", channels=[0, 0])\n",
    "img = AIPS_pose_object.cellpose_image_load()\n",
    "mask, table = AIPS_pose_object.cellpose_segmantation(image_input=img)\n",
    "compsite = afd.Compsite_display(input_image=img, mask_roi=mask)\n",
    "\n",
    "\n",
    "gran = ag.GRANULARITY(image=img, mask=mask)\n",
    "granData = gran.loopLabelimage(start_kernel=2, end_karnel=7, kernel_size=7)\n",
    "granOriginal, _ = gran.featuresTable(features=['label', 'centroid'])\n",
    "granData[\"classLabel\"] = 1\n",
    "granData.to_csv(os.path.join(pathOut,'granularity.csv'))\n",
    "Intensity, Kernel = ag.MERGE().meanIntensity(granData, group=1)\n",
    "\n",
    "\n",
    "#compsiteImage  = compsite.display_image_label(table=table, font_select=\"arial.ttf\", font_size=24, contour=True, intensity=2,label_draw = 'area')"
   ]
  },
  {
   "cell_type": "code",
   "execution_count": 31,
   "id": "a89f869f",
   "metadata": {},
   "outputs": [
    {
     "data": {
      "text/plain": [
       "[1.0, 0.7983027080000955, 0.7533039073022766, 0.706822344028193]"
      ]
     },
     "execution_count": 31,
     "metadata": {},
     "output_type": "execute_result"
    }
   ],
   "source": [
    "Intensity"
   ]
  },
  {
   "cell_type": "code",
   "execution_count": 30,
   "id": "be77c41e",
   "metadata": {},
   "outputs": [
    {
     "data": {
      "text/plain": [
       "<AxesSubplot:xlabel='kernel', ylabel='Signal intensity (ratio)'>"
      ]
     },
     "execution_count": 30,
     "metadata": {},
     "output_type": "execute_result"
    },
    {
     "data": {
      "image/png": "[encoded data removed]",
      "text/plain": [
       "<Figure size 432x288 with 1 Axes>"
      ]
     },
     "metadata": {
      "needs_background": "light"
     },
     "output_type": "display_data"
    }
   ],
   "source": [
    "df = pd.DataFrame({\"kernel\":Kernel,\"Signal intensity (ratio)\":Intensity})\n",
    "sns.lineplot(data=df, x=\"kernel\", y=\"Signal intensity (ratio)\")\n"
   ]
  },
  {
   "cell_type": "code",
   "execution_count": null,
   "id": "ea119246",
   "metadata": {},
   "outputs": [],
   "source": [
    "fig2 = linePlot.get_figure()\n",
    "fig2.savefig(os.path.join(outPath, 'intensityPerKernel.png'))"
   ]
  },
  {
   "cell_type": "code",
   "execution_count": null,
   "id": "d95190a4",
   "metadata": {},
   "outputs": [],
   "source": []
  },
  {
   "cell_type": "code",
   "execution_count": null,
   "id": "9fa73225",
   "metadata": {},
   "outputs": [],
   "source": []
  },
  {
   "cell_type": "code",
   "execution_count": 4,
   "id": "8847a5b4",
   "metadata": {},
   "outputs": [
    {
     "ename": "AttributeError",
     "evalue": "'DataFrame' object has no attribute 'column'",
     "output_type": "error",
     "traceback": [
      "\u001b[1;31m---------------------------------------------------------------------------\u001b[0m",
      "\u001b[1;31mAttributeError\u001b[0m                            Traceback (most recent call last)",
      "\u001b[1;32m~\\AppData\\Local\\Temp\\ipykernel_27944\\189089211.py\u001b[0m in \u001b[0;36m<module>\u001b[1;34m\u001b[0m\n\u001b[1;32m----> 1\u001b[1;33m \u001b[0mcompsiteImage\u001b[0m  \u001b[1;33m=\u001b[0m \u001b[0mcompsite\u001b[0m\u001b[1;33m.\u001b[0m\u001b[0mdisplay_image_label\u001b[0m\u001b[1;33m(\u001b[0m\u001b[0mtable\u001b[0m\u001b[1;33m=\u001b[0m\u001b[0mtable\u001b[0m\u001b[1;33m,\u001b[0m \u001b[0mfont_select\u001b[0m\u001b[1;33m=\u001b[0m\u001b[1;34m\"arial.ttf\"\u001b[0m\u001b[1;33m,\u001b[0m \u001b[0mfont_size\u001b[0m\u001b[1;33m=\u001b[0m\u001b[1;36m24\u001b[0m\u001b[1;33m,\u001b[0m \u001b[0mcontour\u001b[0m\u001b[1;33m=\u001b[0m\u001b[1;32mTrue\u001b[0m\u001b[1;33m,\u001b[0m \u001b[0mintensity\u001b[0m\u001b[1;33m=\u001b[0m\u001b[1;36m2\u001b[0m\u001b[1;33m,\u001b[0m\u001b[0mlabel_draw\u001b[0m \u001b[1;33m=\u001b[0m \u001b[1;34m'area'\u001b[0m\u001b[1;33m)\u001b[0m\u001b[1;33m\u001b[0m\u001b[1;33m\u001b[0m\u001b[0m\n\u001b[0m",
      "\u001b[1;32mF:\\HAB_2\\PrinzScreen\\Deploy\\utils\\AIPS_file_display.py\u001b[0m in \u001b[0;36mdisplay_image_label\u001b[1;34m(self, table, font_select, font_size, contour, label_draw, intensity)\u001b[0m\n\u001b[0;32m    149\u001b[0m             \u001b[0msel_lable\u001b[0m \u001b[1;33m=\u001b[0m  \u001b[0minfo_table\u001b[0m\u001b[1;33m.\u001b[0m\u001b[0mindex\u001b[0m\u001b[1;33m.\u001b[0m\u001b[0mvalues\u001b[0m\u001b[1;33m.\u001b[0m\u001b[0mtolist\u001b[0m\u001b[1;33m(\u001b[0m\u001b[1;33m)\u001b[0m\u001b[1;33m\u001b[0m\u001b[1;33m\u001b[0m\u001b[0m\n\u001b[0;32m    150\u001b[0m         \u001b[1;32melse\u001b[0m\u001b[1;33m:\u001b[0m\u001b[1;33m\u001b[0m\u001b[1;33m\u001b[0m\u001b[0m\n\u001b[1;32m--> 151\u001b[1;33m             \u001b[1;32mif\u001b[0m \u001b[0mlabel_draw\u001b[0m \u001b[1;32min\u001b[0m \u001b[1;33m[\u001b[0m\u001b[0mcol\u001b[0m \u001b[1;32mfor\u001b[0m \u001b[0mcol\u001b[0m \u001b[1;32min\u001b[0m \u001b[0minfo_table\u001b[0m\u001b[1;33m.\u001b[0m\u001b[0mcolumn\u001b[0m\u001b[1;33m]\u001b[0m\u001b[1;33m:\u001b[0m\u001b[1;33m\u001b[0m\u001b[1;33m\u001b[0m\u001b[0m\n\u001b[0m\u001b[0;32m    152\u001b[0m                 \u001b[0msel_lable\u001b[0m \u001b[1;33m=\u001b[0m  \u001b[0minfo_table\u001b[0m\u001b[1;33m.\u001b[0m\u001b[0mlabel_draw\u001b[0m\u001b[1;33m.\u001b[0m\u001b[0mvalues\u001b[0m\u001b[1;33m.\u001b[0m\u001b[0mtolist\u001b[0m\u001b[1;33m(\u001b[0m\u001b[1;33m)\u001b[0m\u001b[1;33m\u001b[0m\u001b[1;33m\u001b[0m\u001b[0m\n\u001b[0;32m    153\u001b[0m             \u001b[1;32melse\u001b[0m\u001b[1;33m:\u001b[0m\u001b[1;33m\u001b[0m\u001b[1;33m\u001b[0m\u001b[0m\n",
      "\u001b[1;32mF:\\Gil\\anaconda\\envs\\pymc3_cellpose_dash\\lib\\site-packages\\pandas\\core\\generic.py\u001b[0m in \u001b[0;36m__getattr__\u001b[1;34m(self, name)\u001b[0m\n\u001b[0;32m   5485\u001b[0m         ):\n\u001b[0;32m   5486\u001b[0m             \u001b[1;32mreturn\u001b[0m \u001b[0mself\u001b[0m\u001b[1;33m[\u001b[0m\u001b[0mname\u001b[0m\u001b[1;33m]\u001b[0m\u001b[1;33m\u001b[0m\u001b[1;33m\u001b[0m\u001b[0m\n\u001b[1;32m-> 5487\u001b[1;33m         \u001b[1;32mreturn\u001b[0m \u001b[0mobject\u001b[0m\u001b[1;33m.\u001b[0m\u001b[0m__getattribute__\u001b[0m\u001b[1;33m(\u001b[0m\u001b[0mself\u001b[0m\u001b[1;33m,\u001b[0m \u001b[0mname\u001b[0m\u001b[1;33m)\u001b[0m\u001b[1;33m\u001b[0m\u001b[1;33m\u001b[0m\u001b[0m\n\u001b[0m\u001b[0;32m   5488\u001b[0m \u001b[1;33m\u001b[0m\u001b[0m\n\u001b[0;32m   5489\u001b[0m     \u001b[1;32mdef\u001b[0m \u001b[0m__setattr__\u001b[0m\u001b[1;33m(\u001b[0m\u001b[0mself\u001b[0m\u001b[1;33m,\u001b[0m \u001b[0mname\u001b[0m\u001b[1;33m:\u001b[0m \u001b[0mstr\u001b[0m\u001b[1;33m,\u001b[0m \u001b[0mvalue\u001b[0m\u001b[1;33m)\u001b[0m \u001b[1;33m->\u001b[0m \u001b[1;32mNone\u001b[0m\u001b[1;33m:\u001b[0m\u001b[1;33m\u001b[0m\u001b[1;33m\u001b[0m\u001b[0m\n",
      "\u001b[1;31mAttributeError\u001b[0m: 'DataFrame' object has no attribute 'column'"
     ]
    }
   ],
   "source": [
    "compsiteImage  = compsite.display_image_label(table=table, font_select=\"arial.ttf\", font_size=24, contour=True, intensity=2,label_draw = 'area')"
   ]
  },
  {
   "cell_type": "code",
   "execution_count": 25,
   "id": "e573aeb4",
   "metadata": {},
   "outputs": [
    {
     "data": {
      "text/html": [
       "<svg  width=\"440\" height=\"55\"><rect x=\"0\" y=\"0\" width=\"55\" height=\"55\" style=\"fill:#66c2a5;stroke-width:2;stroke:rgb(255,255,255)\"/><rect x=\"55\" y=\"0\" width=\"55\" height=\"55\" style=\"fill:#fc8d62;stroke-width:2;stroke:rgb(255,255,255)\"/><rect x=\"110\" y=\"0\" width=\"55\" height=\"55\" style=\"fill:#8da0cb;stroke-width:2;stroke:rgb(255,255,255)\"/><rect x=\"165\" y=\"0\" width=\"55\" height=\"55\" style=\"fill:#e78ac3;stroke-width:2;stroke:rgb(255,255,255)\"/><rect x=\"220\" y=\"0\" width=\"55\" height=\"55\" style=\"fill:#a6d854;stroke-width:2;stroke:rgb(255,255,255)\"/><rect x=\"275\" y=\"0\" width=\"55\" height=\"55\" style=\"fill:#ffd92f;stroke-width:2;stroke:rgb(255,255,255)\"/><rect x=\"330\" y=\"0\" width=\"55\" height=\"55\" style=\"fill:#e5c494;stroke-width:2;stroke:rgb(255,255,255)\"/><rect x=\"385\" y=\"0\" width=\"55\" height=\"55\" style=\"fill:#b3b3b3;stroke-width:2;stroke:rgb(255,255,255)\"/></svg>"
      ],
      "text/plain": [
       "[(0.4, 0.7607843137254902, 0.6470588235294118),\n",
       " (0.9882352941176471, 0.5529411764705883, 0.3843137254901961),\n",
       " (0.5529411764705883, 0.6274509803921569, 0.796078431372549),\n",
       " (0.9058823529411765, 0.5411764705882353, 0.7647058823529411),\n",
       " (0.6509803921568628, 0.8470588235294118, 0.32941176470588235),\n",
       " (1.0, 0.8509803921568627, 0.1843137254901961),\n",
       " (0.8980392156862745, 0.7686274509803922, 0.5803921568627451),\n",
       " (0.7019607843137254, 0.7019607843137254, 0.7019607843137254)]"
      ]
     },
     "execution_count": 25,
     "metadata": {},
     "output_type": "execute_result"
    }
   ],
   "source": [
    "sns.color_palette(\"Set2\")"
   ]
  },
  {
   "cell_type": "code",
   "execution_count": 28,
   "id": "f31bf9fd",
   "metadata": {},
   "outputs": [
    {
     "data": {
      "text/plain": [
       "<AxesSubplot:xlabel='area', ylabel='Count'>"
      ]
     },
     "execution_count": 28,
     "metadata": {},
     "output_type": "execute_result"
    },
    {
     "data": {
      "image/png": "[encoded data removed]",
      "text/plain": [
       "<Figure size 432x288 with 1 Axes>"
      ]
     },
     "metadata": {},
     "output_type": "display_data"
    }
   ],
   "source": [
    "sns.set()\n",
    "sns.histplot(data = table, x = 'area', kde = True,color = sns.color_palette(\"Set2\")[1],binwidth = 500)"
   ]
  },
  {
   "cell_type": "code",
   "execution_count": 2,
   "id": "0ef053f4",
   "metadata": {},
   "outputs": [
    {
     "data": {
      "text/plain": [
       "<matplotlib.image.AxesImage at 0x28621cb9a08>"
      ]
     },
     "execution_count": 2,
     "metadata": {},
     "output_type": "execute_result"
    },
    {
     "data": {
      "image/png": "[encoded data removed]",
      "text/plain": [
       "<Figure size 432x288 with 1 Axes>"
      ]
     },
     "metadata": {
      "needs_background": "light"
     },
     "output_type": "display_data"
    }
   ],
   "source": [
    "path_input = r'F:\\HAB_2\\PrinzScreen\\Deploy\\testData'\n",
    "file = 'exp001_13DKO_2-1.tif'\n",
    "\n",
    "AIPS_pose_object = AC.AIPS_cellpose(Image_name = file, path= path_input, model_type=\"cyto\", channels=[0,0])\n",
    "img = AIPS_pose_object.cellpose_image_load()\n",
    "\n",
    "mask, table = AIPS_pose_object.cellpose_segmantation(image_input=img[0,200:700,200:700])\n",
    "plt.imshow(mask)"
   ]
  },
  {
   "cell_type": "code",
   "execution_count": 22,
   "id": "4f925f18",
   "metadata": {},
   "outputs": [
    {
     "data": {
      "text/html": [
       "<div>\n",
       "<style scoped>\n",
       "    .dataframe tbody tr th:only-of-type {\n",
       "        vertical-align: middle;\n",
       "    }\n",
       "\n",
       "    .dataframe tbody tr th {\n",
       "        vertical-align: top;\n",
       "    }\n",
       "\n",
       "    .dataframe thead th {\n",
       "        text-align: right;\n",
       "    }\n",
       "</style>\n",
       "<table border=\"1\" class=\"dataframe\">\n",
       "  <thead>\n",
       "    <tr style=\"text-align: right;\">\n",
       "      <th></th>\n",
       "      <th>area</th>\n",
       "      <th>centroid-0</th>\n",
       "      <th>centroid-1</th>\n",
       "    </tr>\n",
       "    <tr>\n",
       "      <th>label</th>\n",
       "      <th></th>\n",
       "      <th></th>\n",
       "      <th></th>\n",
       "    </tr>\n",
       "  </thead>\n",
       "  <tbody>\n",
       "    <tr>\n",
       "      <th>1</th>\n",
       "      <td>1435</td>\n",
       "      <td>22.708711</td>\n",
       "      <td>16.668293</td>\n",
       "    </tr>\n",
       "    <tr>\n",
       "      <th>2</th>\n",
       "      <td>6644</td>\n",
       "      <td>54.277845</td>\n",
       "      <td>110.885611</td>\n",
       "    </tr>\n",
       "    <tr>\n",
       "      <th>3</th>\n",
       "      <td>1323</td>\n",
       "      <td>12.146636</td>\n",
       "      <td>167.991686</td>\n",
       "    </tr>\n",
       "    <tr>\n",
       "      <th>4</th>\n",
       "      <td>2471</td>\n",
       "      <td>24.797653</td>\n",
       "      <td>241.995548</td>\n",
       "    </tr>\n",
       "    <tr>\n",
       "      <th>5</th>\n",
       "      <td>2107</td>\n",
       "      <td>18.306122</td>\n",
       "      <td>358.981965</td>\n",
       "    </tr>\n",
       "    <tr>\n",
       "      <th>6</th>\n",
       "      <td>4241</td>\n",
       "      <td>43.906626</td>\n",
       "      <td>476.283424</td>\n",
       "    </tr>\n",
       "    <tr>\n",
       "      <th>7</th>\n",
       "      <td>2674</td>\n",
       "      <td>39.046746</td>\n",
       "      <td>394.685116</td>\n",
       "    </tr>\n",
       "    <tr>\n",
       "      <th>8</th>\n",
       "      <td>3402</td>\n",
       "      <td>53.074368</td>\n",
       "      <td>199.647266</td>\n",
       "    </tr>\n",
       "    <tr>\n",
       "      <th>9</th>\n",
       "      <td>3816</td>\n",
       "      <td>61.829140</td>\n",
       "      <td>284.396226</td>\n",
       "    </tr>\n",
       "    <tr>\n",
       "      <th>10</th>\n",
       "      <td>3892</td>\n",
       "      <td>76.232271</td>\n",
       "      <td>33.925488</td>\n",
       "    </tr>\n",
       "    <tr>\n",
       "      <th>11</th>\n",
       "      <td>4849</td>\n",
       "      <td>95.760157</td>\n",
       "      <td>383.229738</td>\n",
       "    </tr>\n",
       "    <tr>\n",
       "      <th>12</th>\n",
       "      <td>4371</td>\n",
       "      <td>112.338367</td>\n",
       "      <td>221.198124</td>\n",
       "    </tr>\n",
       "    <tr>\n",
       "      <th>13</th>\n",
       "      <td>3104</td>\n",
       "      <td>124.651095</td>\n",
       "      <td>432.248389</td>\n",
       "    </tr>\n",
       "    <tr>\n",
       "      <th>14</th>\n",
       "      <td>1254</td>\n",
       "      <td>129.603668</td>\n",
       "      <td>19.394737</td>\n",
       "    </tr>\n",
       "    <tr>\n",
       "      <th>15</th>\n",
       "      <td>360</td>\n",
       "      <td>130.083333</td>\n",
       "      <td>64.600000</td>\n",
       "    </tr>\n",
       "    <tr>\n",
       "      <th>16</th>\n",
       "      <td>343</td>\n",
       "      <td>129.988338</td>\n",
       "      <td>82.163265</td>\n",
       "    </tr>\n",
       "    <tr>\n",
       "      <th>17</th>\n",
       "      <td>4491</td>\n",
       "      <td>164.167891</td>\n",
       "      <td>459.709196</td>\n",
       "    </tr>\n",
       "    <tr>\n",
       "      <th>18</th>\n",
       "      <td>2962</td>\n",
       "      <td>155.422012</td>\n",
       "      <td>183.171506</td>\n",
       "    </tr>\n",
       "    <tr>\n",
       "      <th>19</th>\n",
       "      <td>2295</td>\n",
       "      <td>148.270153</td>\n",
       "      <td>364.463181</td>\n",
       "    </tr>\n",
       "    <tr>\n",
       "      <th>20</th>\n",
       "      <td>3186</td>\n",
       "      <td>162.568110</td>\n",
       "      <td>118.740741</td>\n",
       "    </tr>\n",
       "    <tr>\n",
       "      <th>21</th>\n",
       "      <td>3288</td>\n",
       "      <td>170.349757</td>\n",
       "      <td>315.285888</td>\n",
       "    </tr>\n",
       "    <tr>\n",
       "      <th>22</th>\n",
       "      <td>17</td>\n",
       "      <td>141.882353</td>\n",
       "      <td>68.764706</td>\n",
       "    </tr>\n",
       "    <tr>\n",
       "      <th>23</th>\n",
       "      <td>3415</td>\n",
       "      <td>180.006442</td>\n",
       "      <td>234.934700</td>\n",
       "    </tr>\n",
       "    <tr>\n",
       "      <th>24</th>\n",
       "      <td>147</td>\n",
       "      <td>146.489796</td>\n",
       "      <td>75.809524</td>\n",
       "    </tr>\n",
       "    <tr>\n",
       "      <th>25</th>\n",
       "      <td>3435</td>\n",
       "      <td>183.491994</td>\n",
       "      <td>67.941776</td>\n",
       "    </tr>\n",
       "    <tr>\n",
       "      <th>26</th>\n",
       "      <td>4331</td>\n",
       "      <td>203.740014</td>\n",
       "      <td>377.553221</td>\n",
       "    </tr>\n",
       "    <tr>\n",
       "      <th>27</th>\n",
       "      <td>5775</td>\n",
       "      <td>218.813506</td>\n",
       "      <td>151.524848</td>\n",
       "    </tr>\n",
       "    <tr>\n",
       "      <th>28</th>\n",
       "      <td>2723</td>\n",
       "      <td>223.593096</td>\n",
       "      <td>23.792508</td>\n",
       "    </tr>\n",
       "    <tr>\n",
       "      <th>29</th>\n",
       "      <td>3600</td>\n",
       "      <td>253.127778</td>\n",
       "      <td>440.485833</td>\n",
       "    </tr>\n",
       "    <tr>\n",
       "      <th>30</th>\n",
       "      <td>5865</td>\n",
       "      <td>259.907076</td>\n",
       "      <td>69.461211</td>\n",
       "    </tr>\n",
       "    <tr>\n",
       "      <th>31</th>\n",
       "      <td>3147</td>\n",
       "      <td>250.715284</td>\n",
       "      <td>241.349539</td>\n",
       "    </tr>\n",
       "    <tr>\n",
       "      <th>32</th>\n",
       "      <td>3561</td>\n",
       "      <td>249.056726</td>\n",
       "      <td>321.335861</td>\n",
       "    </tr>\n",
       "    <tr>\n",
       "      <th>33</th>\n",
       "      <td>2377</td>\n",
       "      <td>262.931005</td>\n",
       "      <td>193.981489</td>\n",
       "    </tr>\n",
       "    <tr>\n",
       "      <th>34</th>\n",
       "      <td>4244</td>\n",
       "      <td>288.105325</td>\n",
       "      <td>380.534402</td>\n",
       "    </tr>\n",
       "    <tr>\n",
       "      <th>35</th>\n",
       "      <td>4303</td>\n",
       "      <td>300.029747</td>\n",
       "      <td>308.680455</td>\n",
       "    </tr>\n",
       "    <tr>\n",
       "      <th>36</th>\n",
       "      <td>2248</td>\n",
       "      <td>297.542705</td>\n",
       "      <td>165.563167</td>\n",
       "    </tr>\n",
       "    <tr>\n",
       "      <th>37</th>\n",
       "      <td>2481</td>\n",
       "      <td>307.658605</td>\n",
       "      <td>118.737203</td>\n",
       "    </tr>\n",
       "    <tr>\n",
       "      <th>38</th>\n",
       "      <td>4890</td>\n",
       "      <td>328.487117</td>\n",
       "      <td>253.650716</td>\n",
       "    </tr>\n",
       "    <tr>\n",
       "      <th>39</th>\n",
       "      <td>2904</td>\n",
       "      <td>326.460055</td>\n",
       "      <td>26.386708</td>\n",
       "    </tr>\n",
       "    <tr>\n",
       "      <th>40</th>\n",
       "      <td>2526</td>\n",
       "      <td>358.073634</td>\n",
       "      <td>323.316706</td>\n",
       "    </tr>\n",
       "    <tr>\n",
       "      <th>41</th>\n",
       "      <td>5516</td>\n",
       "      <td>380.332669</td>\n",
       "      <td>128.532814</td>\n",
       "    </tr>\n",
       "    <tr>\n",
       "      <th>42</th>\n",
       "      <td>4966</td>\n",
       "      <td>394.711841</td>\n",
       "      <td>222.156867</td>\n",
       "    </tr>\n",
       "    <tr>\n",
       "      <th>43</th>\n",
       "      <td>4714</td>\n",
       "      <td>409.368901</td>\n",
       "      <td>48.893933</td>\n",
       "    </tr>\n",
       "    <tr>\n",
       "      <th>44</th>\n",
       "      <td>1341</td>\n",
       "      <td>401.809098</td>\n",
       "      <td>490.282625</td>\n",
       "    </tr>\n",
       "    <tr>\n",
       "      <th>45</th>\n",
       "      <td>1832</td>\n",
       "      <td>398.411572</td>\n",
       "      <td>363.400109</td>\n",
       "    </tr>\n",
       "    <tr>\n",
       "      <th>46</th>\n",
       "      <td>2628</td>\n",
       "      <td>426.897260</td>\n",
       "      <td>302.992009</td>\n",
       "    </tr>\n",
       "    <tr>\n",
       "      <th>47</th>\n",
       "      <td>2017</td>\n",
       "      <td>426.195340</td>\n",
       "      <td>407.053545</td>\n",
       "    </tr>\n",
       "    <tr>\n",
       "      <th>48</th>\n",
       "      <td>3627</td>\n",
       "      <td>438.126827</td>\n",
       "      <td>164.600496</td>\n",
       "    </tr>\n",
       "    <tr>\n",
       "      <th>49</th>\n",
       "      <td>3364</td>\n",
       "      <td>455.567182</td>\n",
       "      <td>239.195600</td>\n",
       "    </tr>\n",
       "    <tr>\n",
       "      <th>50</th>\n",
       "      <td>4950</td>\n",
       "      <td>468.426061</td>\n",
       "      <td>99.728283</td>\n",
       "    </tr>\n",
       "    <tr>\n",
       "      <th>51</th>\n",
       "      <td>2295</td>\n",
       "      <td>475.939869</td>\n",
       "      <td>339.808279</td>\n",
       "    </tr>\n",
       "    <tr>\n",
       "      <th>52</th>\n",
       "      <td>2177</td>\n",
       "      <td>483.398714</td>\n",
       "      <td>467.081764</td>\n",
       "    </tr>\n",
       "    <tr>\n",
       "      <th>53</th>\n",
       "      <td>2908</td>\n",
       "      <td>487.317056</td>\n",
       "      <td>207.224209</td>\n",
       "    </tr>\n",
       "  </tbody>\n",
       "</table>\n",
       "</div>"
      ],
      "text/plain": [
       "       area  centroid-0  centroid-1\n",
       "label                              \n",
       "1      1435   22.708711   16.668293\n",
       "2      6644   54.277845  110.885611\n",
       "3      1323   12.146636  167.991686\n",
       "4      2471   24.797653  241.995548\n",
       "5      2107   18.306122  358.981965\n",
       "6      4241   43.906626  476.283424\n",
       "7      2674   39.046746  394.685116\n",
       "8      3402   53.074368  199.647266\n",
       "9      3816   61.829140  284.396226\n",
       "10     3892   76.232271   33.925488\n",
       "11     4849   95.760157  383.229738\n",
       "12     4371  112.338367  221.198124\n",
       "13     3104  124.651095  432.248389\n",
       "14     1254  129.603668   19.394737\n",
       "15      360  130.083333   64.600000\n",
       "16      343  129.988338   82.163265\n",
       "17     4491  164.167891  459.709196\n",
       "18     2962  155.422012  183.171506\n",
       "19     2295  148.270153  364.463181\n",
       "20     3186  162.568110  118.740741\n",
       "21     3288  170.349757  315.285888\n",
       "22       17  141.882353   68.764706\n",
       "23     3415  180.006442  234.934700\n",
       "24      147  146.489796   75.809524\n",
       "25     3435  183.491994   67.941776\n",
       "26     4331  203.740014  377.553221\n",
       "27     5775  218.813506  151.524848\n",
       "28     2723  223.593096   23.792508\n",
       "29     3600  253.127778  440.485833\n",
       "30     5865  259.907076   69.461211\n",
       "31     3147  250.715284  241.349539\n",
       "32     3561  249.056726  321.335861\n",
       "33     2377  262.931005  193.981489\n",
       "34     4244  288.105325  380.534402\n",
       "35     4303  300.029747  308.680455\n",
       "36     2248  297.542705  165.563167\n",
       "37     2481  307.658605  118.737203\n",
       "38     4890  328.487117  253.650716\n",
       "39     2904  326.460055   26.386708\n",
       "40     2526  358.073634  323.316706\n",
       "41     5516  380.332669  128.532814\n",
       "42     4966  394.711841  222.156867\n",
       "43     4714  409.368901   48.893933\n",
       "44     1341  401.809098  490.282625\n",
       "45     1832  398.411572  363.400109\n",
       "46     2628  426.897260  302.992009\n",
       "47     2017  426.195340  407.053545\n",
       "48     3627  438.126827  164.600496\n",
       "49     3364  455.567182  239.195600\n",
       "50     4950  468.426061   99.728283\n",
       "51     2295  475.939869  339.808279\n",
       "52     2177  483.398714  467.081764\n",
       "53     2908  487.317056  207.224209"
      ]
     },
     "execution_count": 22,
     "metadata": {},
     "output_type": "execute_result"
    }
   ],
   "source": [
    "table"
   ]
  },
  {
   "cell_type": "code",
   "execution_count": 3,
   "id": "43fdee62",
   "metadata": {},
   "outputs": [
    {
     "ename": "TypeError",
     "evalue": "display_image_label() missing 1 required positional argument: 'contour'",
     "output_type": "error",
     "traceback": [
      "\u001b[1;31m---------------------------------------------------------------------------\u001b[0m",
      "\u001b[1;31mTypeError\u001b[0m                                 Traceback (most recent call last)",
      "\u001b[1;32m~\\AppData\\Local\\Temp\\ipykernel_26456\\118922519.py\u001b[0m in \u001b[0;36m<module>\u001b[1;34m\u001b[0m\n\u001b[0;32m      1\u001b[0m \u001b[0mdipObject\u001b[0m \u001b[1;33m=\u001b[0m \u001b[0mafd\u001b[0m\u001b[1;33m.\u001b[0m\u001b[0mCompsite_display\u001b[0m\u001b[1;33m(\u001b[0m\u001b[0minput_image\u001b[0m\u001b[1;33m=\u001b[0m\u001b[0mimg\u001b[0m\u001b[1;33m[\u001b[0m\u001b[1;36m0\u001b[0m\u001b[1;33m,\u001b[0m\u001b[1;36m200\u001b[0m\u001b[1;33m:\u001b[0m\u001b[1;36m700\u001b[0m\u001b[1;33m,\u001b[0m\u001b[1;36m200\u001b[0m\u001b[1;33m:\u001b[0m\u001b[1;36m700\u001b[0m\u001b[1;33m]\u001b[0m\u001b[1;33m,\u001b[0m \u001b[0mmask_roi\u001b[0m\u001b[1;33m=\u001b[0m\u001b[0mmask\u001b[0m\u001b[1;33m)\u001b[0m\u001b[1;33m\u001b[0m\u001b[1;33m\u001b[0m\u001b[0m\n\u001b[1;32m----> 2\u001b[1;33m \u001b[0mPIL_image\u001b[0m \u001b[1;33m=\u001b[0m \u001b[0mdipObject\u001b[0m\u001b[1;33m.\u001b[0m\u001b[0mdisplay_image_label\u001b[0m\u001b[1;33m(\u001b[0m \u001b[0mtable\u001b[0m \u001b[1;33m=\u001b[0m \u001b[0mtable\u001b[0m\u001b[1;33m,\u001b[0m \u001b[0mfont_select\u001b[0m \u001b[1;33m=\u001b[0m \u001b[1;34m\"arial.ttf\"\u001b[0m\u001b[1;33m,\u001b[0m \u001b[0mfont_size\u001b[0m \u001b[1;33m=\u001b[0m \u001b[1;36m24\u001b[0m\u001b[1;33m)\u001b[0m\u001b[1;33m\u001b[0m\u001b[1;33m\u001b[0m\u001b[0m\n\u001b[0m\u001b[0;32m      3\u001b[0m \u001b[0mplt\u001b[0m\u001b[1;33m.\u001b[0m\u001b[0mimshow\u001b[0m\u001b[1;33m(\u001b[0m\u001b[0mPIL_image\u001b[0m\u001b[1;33m)\u001b[0m\u001b[1;33m\u001b[0m\u001b[1;33m\u001b[0m\u001b[0m\n",
      "\u001b[1;31mTypeError\u001b[0m: display_image_label() missing 1 required positional argument: 'contour'"
     ]
    }
   ],
   "source": [
    "dipObject = afd.Compsite_display(input_image=img[0,200:700,200:700], mask_roi=mask)\n",
    "PIL_image = dipObject.display_image_label( table = table, font_select = \"arial.ttf\", font_size = 24)\n",
    "plt.imshow(PIL_image)"
   ]
  },
  {
   "cell_type": "code",
   "execution_count": 24,
   "id": "27fac5f6",
   "metadata": {
    "collapsed": true
   },
   "outputs": [
    {
     "data": {
      "text/html": [
       "<div>\n",
       "<style scoped>\n",
       "    .dataframe tbody tr th:only-of-type {\n",
       "        vertical-align: middle;\n",
       "    }\n",
       "\n",
       "    .dataframe tbody tr th {\n",
       "        vertical-align: top;\n",
       "    }\n",
       "\n",
       "    .dataframe thead th {\n",
       "        text-align: right;\n",
       "    }\n",
       "</style>\n",
       "<table border=\"1\" class=\"dataframe\">\n",
       "  <thead>\n",
       "    <tr style=\"text-align: right;\">\n",
       "      <th></th>\n",
       "      <th>area</th>\n",
       "      <th>centroid-0</th>\n",
       "      <th>centroid-1</th>\n",
       "    </tr>\n",
       "    <tr>\n",
       "      <th>label</th>\n",
       "      <th></th>\n",
       "      <th></th>\n",
       "      <th></th>\n",
       "    </tr>\n",
       "  </thead>\n",
       "  <tbody>\n",
       "    <tr>\n",
       "      <th>1</th>\n",
       "      <td>1435</td>\n",
       "      <td>22.708711</td>\n",
       "      <td>16.668293</td>\n",
       "    </tr>\n",
       "    <tr>\n",
       "      <th>2</th>\n",
       "      <td>6644</td>\n",
       "      <td>54.277845</td>\n",
       "      <td>110.885611</td>\n",
       "    </tr>\n",
       "    <tr>\n",
       "      <th>3</th>\n",
       "      <td>1323</td>\n",
       "      <td>12.146636</td>\n",
       "      <td>167.991686</td>\n",
       "    </tr>\n",
       "    <tr>\n",
       "      <th>4</th>\n",
       "      <td>2471</td>\n",
       "      <td>24.797653</td>\n",
       "      <td>241.995548</td>\n",
       "    </tr>\n",
       "    <tr>\n",
       "      <th>5</th>\n",
       "      <td>2107</td>\n",
       "      <td>18.306122</td>\n",
       "      <td>358.981965</td>\n",
       "    </tr>\n",
       "    <tr>\n",
       "      <th>6</th>\n",
       "      <td>4241</td>\n",
       "      <td>43.906626</td>\n",
       "      <td>476.283424</td>\n",
       "    </tr>\n",
       "    <tr>\n",
       "      <th>7</th>\n",
       "      <td>2674</td>\n",
       "      <td>39.046746</td>\n",
       "      <td>394.685116</td>\n",
       "    </tr>\n",
       "    <tr>\n",
       "      <th>8</th>\n",
       "      <td>3402</td>\n",
       "      <td>53.074368</td>\n",
       "      <td>199.647266</td>\n",
       "    </tr>\n",
       "    <tr>\n",
       "      <th>9</th>\n",
       "      <td>3816</td>\n",
       "      <td>61.829140</td>\n",
       "      <td>284.396226</td>\n",
       "    </tr>\n",
       "    <tr>\n",
       "      <th>10</th>\n",
       "      <td>3892</td>\n",
       "      <td>76.232271</td>\n",
       "      <td>33.925488</td>\n",
       "    </tr>\n",
       "    <tr>\n",
       "      <th>11</th>\n",
       "      <td>4849</td>\n",
       "      <td>95.760157</td>\n",
       "      <td>383.229738</td>\n",
       "    </tr>\n",
       "    <tr>\n",
       "      <th>12</th>\n",
       "      <td>4371</td>\n",
       "      <td>112.338367</td>\n",
       "      <td>221.198124</td>\n",
       "    </tr>\n",
       "    <tr>\n",
       "      <th>13</th>\n",
       "      <td>3104</td>\n",
       "      <td>124.651095</td>\n",
       "      <td>432.248389</td>\n",
       "    </tr>\n",
       "    <tr>\n",
       "      <th>14</th>\n",
       "      <td>1254</td>\n",
       "      <td>129.603668</td>\n",
       "      <td>19.394737</td>\n",
       "    </tr>\n",
       "    <tr>\n",
       "      <th>15</th>\n",
       "      <td>360</td>\n",
       "      <td>130.083333</td>\n",
       "      <td>64.600000</td>\n",
       "    </tr>\n",
       "    <tr>\n",
       "      <th>16</th>\n",
       "      <td>343</td>\n",
       "      <td>129.988338</td>\n",
       "      <td>82.163265</td>\n",
       "    </tr>\n",
       "    <tr>\n",
       "      <th>17</th>\n",
       "      <td>4491</td>\n",
       "      <td>164.167891</td>\n",
       "      <td>459.709196</td>\n",
       "    </tr>\n",
       "    <tr>\n",
       "      <th>18</th>\n",
       "      <td>2962</td>\n",
       "      <td>155.422012</td>\n",
       "      <td>183.171506</td>\n",
       "    </tr>\n",
       "    <tr>\n",
       "      <th>19</th>\n",
       "      <td>2295</td>\n",
       "      <td>148.270153</td>\n",
       "      <td>364.463181</td>\n",
       "    </tr>\n",
       "    <tr>\n",
       "      <th>20</th>\n",
       "      <td>3186</td>\n",
       "      <td>162.568110</td>\n",
       "      <td>118.740741</td>\n",
       "    </tr>\n",
       "    <tr>\n",
       "      <th>21</th>\n",
       "      <td>3288</td>\n",
       "      <td>170.349757</td>\n",
       "      <td>315.285888</td>\n",
       "    </tr>\n",
       "    <tr>\n",
       "      <th>22</th>\n",
       "      <td>17</td>\n",
       "      <td>141.882353</td>\n",
       "      <td>68.764706</td>\n",
       "    </tr>\n",
       "    <tr>\n",
       "      <th>23</th>\n",
       "      <td>3415</td>\n",
       "      <td>180.006442</td>\n",
       "      <td>234.934700</td>\n",
       "    </tr>\n",
       "    <tr>\n",
       "      <th>24</th>\n",
       "      <td>147</td>\n",
       "      <td>146.489796</td>\n",
       "      <td>75.809524</td>\n",
       "    </tr>\n",
       "    <tr>\n",
       "      <th>25</th>\n",
       "      <td>3435</td>\n",
       "      <td>183.491994</td>\n",
       "      <td>67.941776</td>\n",
       "    </tr>\n",
       "    <tr>\n",
       "      <th>26</th>\n",
       "      <td>4331</td>\n",
       "      <td>203.740014</td>\n",
       "      <td>377.553221</td>\n",
       "    </tr>\n",
       "    <tr>\n",
       "      <th>27</th>\n",
       "      <td>5775</td>\n",
       "      <td>218.813506</td>\n",
       "      <td>151.524848</td>\n",
       "    </tr>\n",
       "    <tr>\n",
       "      <th>28</th>\n",
       "      <td>2723</td>\n",
       "      <td>223.593096</td>\n",
       "      <td>23.792508</td>\n",
       "    </tr>\n",
       "    <tr>\n",
       "      <th>29</th>\n",
       "      <td>3600</td>\n",
       "      <td>253.127778</td>\n",
       "      <td>440.485833</td>\n",
       "    </tr>\n",
       "    <tr>\n",
       "      <th>30</th>\n",
       "      <td>5865</td>\n",
       "      <td>259.907076</td>\n",
       "      <td>69.461211</td>\n",
       "    </tr>\n",
       "    <tr>\n",
       "      <th>31</th>\n",
       "      <td>3147</td>\n",
       "      <td>250.715284</td>\n",
       "      <td>241.349539</td>\n",
       "    </tr>\n",
       "    <tr>\n",
       "      <th>32</th>\n",
       "      <td>3561</td>\n",
       "      <td>249.056726</td>\n",
       "      <td>321.335861</td>\n",
       "    </tr>\n",
       "    <tr>\n",
       "      <th>33</th>\n",
       "      <td>2377</td>\n",
       "      <td>262.931005</td>\n",
       "      <td>193.981489</td>\n",
       "    </tr>\n",
       "    <tr>\n",
       "      <th>34</th>\n",
       "      <td>4244</td>\n",
       "      <td>288.105325</td>\n",
       "      <td>380.534402</td>\n",
       "    </tr>\n",
       "    <tr>\n",
       "      <th>35</th>\n",
       "      <td>4303</td>\n",
       "      <td>300.029747</td>\n",
       "      <td>308.680455</td>\n",
       "    </tr>\n",
       "    <tr>\n",
       "      <th>36</th>\n",
       "      <td>2248</td>\n",
       "      <td>297.542705</td>\n",
       "      <td>165.563167</td>\n",
       "    </tr>\n",
       "    <tr>\n",
       "      <th>37</th>\n",
       "      <td>2481</td>\n",
       "      <td>307.658605</td>\n",
       "      <td>118.737203</td>\n",
       "    </tr>\n",
       "    <tr>\n",
       "      <th>38</th>\n",
       "      <td>4890</td>\n",
       "      <td>328.487117</td>\n",
       "      <td>253.650716</td>\n",
       "    </tr>\n",
       "    <tr>\n",
       "      <th>39</th>\n",
       "      <td>2904</td>\n",
       "      <td>326.460055</td>\n",
       "      <td>26.386708</td>\n",
       "    </tr>\n",
       "    <tr>\n",
       "      <th>40</th>\n",
       "      <td>2526</td>\n",
       "      <td>358.073634</td>\n",
       "      <td>323.316706</td>\n",
       "    </tr>\n",
       "    <tr>\n",
       "      <th>42</th>\n",
       "      <td>4966</td>\n",
       "      <td>394.711841</td>\n",
       "      <td>222.156867</td>\n",
       "    </tr>\n",
       "    <tr>\n",
       "      <th>43</th>\n",
       "      <td>4714</td>\n",
       "      <td>409.368901</td>\n",
       "      <td>48.893933</td>\n",
       "    </tr>\n",
       "    <tr>\n",
       "      <th>44</th>\n",
       "      <td>1341</td>\n",
       "      <td>401.809098</td>\n",
       "      <td>490.282625</td>\n",
       "    </tr>\n",
       "    <tr>\n",
       "      <th>45</th>\n",
       "      <td>1832</td>\n",
       "      <td>398.411572</td>\n",
       "      <td>363.400109</td>\n",
       "    </tr>\n",
       "    <tr>\n",
       "      <th>47</th>\n",
       "      <td>2017</td>\n",
       "      <td>426.195340</td>\n",
       "      <td>407.053545</td>\n",
       "    </tr>\n",
       "    <tr>\n",
       "      <th>48</th>\n",
       "      <td>3627</td>\n",
       "      <td>438.126827</td>\n",
       "      <td>164.600496</td>\n",
       "    </tr>\n",
       "    <tr>\n",
       "      <th>49</th>\n",
       "      <td>3364</td>\n",
       "      <td>455.567182</td>\n",
       "      <td>239.195600</td>\n",
       "    </tr>\n",
       "    <tr>\n",
       "      <th>51</th>\n",
       "      <td>2295</td>\n",
       "      <td>475.939869</td>\n",
       "      <td>339.808279</td>\n",
       "    </tr>\n",
       "    <tr>\n",
       "      <th>52</th>\n",
       "      <td>2177</td>\n",
       "      <td>483.398714</td>\n",
       "      <td>467.081764</td>\n",
       "    </tr>\n",
       "    <tr>\n",
       "      <th>53</th>\n",
       "      <td>2908</td>\n",
       "      <td>487.317056</td>\n",
       "      <td>207.224209</td>\n",
       "    </tr>\n",
       "  </tbody>\n",
       "</table>\n",
       "</div>"
      ],
      "text/plain": [
       "       area  centroid-0  centroid-1\n",
       "label                              \n",
       "1      1435   22.708711   16.668293\n",
       "2      6644   54.277845  110.885611\n",
       "3      1323   12.146636  167.991686\n",
       "4      2471   24.797653  241.995548\n",
       "5      2107   18.306122  358.981965\n",
       "6      4241   43.906626  476.283424\n",
       "7      2674   39.046746  394.685116\n",
       "8      3402   53.074368  199.647266\n",
       "9      3816   61.829140  284.396226\n",
       "10     3892   76.232271   33.925488\n",
       "11     4849   95.760157  383.229738\n",
       "12     4371  112.338367  221.198124\n",
       "13     3104  124.651095  432.248389\n",
       "14     1254  129.603668   19.394737\n",
       "15      360  130.083333   64.600000\n",
       "16      343  129.988338   82.163265\n",
       "17     4491  164.167891  459.709196\n",
       "18     2962  155.422012  183.171506\n",
       "19     2295  148.270153  364.463181\n",
       "20     3186  162.568110  118.740741\n",
       "21     3288  170.349757  315.285888\n",
       "22       17  141.882353   68.764706\n",
       "23     3415  180.006442  234.934700\n",
       "24      147  146.489796   75.809524\n",
       "25     3435  183.491994   67.941776\n",
       "26     4331  203.740014  377.553221\n",
       "27     5775  218.813506  151.524848\n",
       "28     2723  223.593096   23.792508\n",
       "29     3600  253.127778  440.485833\n",
       "30     5865  259.907076   69.461211\n",
       "31     3147  250.715284  241.349539\n",
       "32     3561  249.056726  321.335861\n",
       "33     2377  262.931005  193.981489\n",
       "34     4244  288.105325  380.534402\n",
       "35     4303  300.029747  308.680455\n",
       "36     2248  297.542705  165.563167\n",
       "37     2481  307.658605  118.737203\n",
       "38     4890  328.487117  253.650716\n",
       "39     2904  326.460055   26.386708\n",
       "40     2526  358.073634  323.316706\n",
       "42     4966  394.711841  222.156867\n",
       "43     4714  409.368901   48.893933\n",
       "44     1341  401.809098  490.282625\n",
       "45     1832  398.411572  363.400109\n",
       "47     2017  426.195340  407.053545\n",
       "48     3627  438.126827  164.600496\n",
       "49     3364  455.567182  239.195600\n",
       "51     2295  475.939869  339.808279\n",
       "52     2177  483.398714  467.081764\n",
       "53     2908  487.317056  207.224209"
      ]
     },
     "execution_count": 24,
     "metadata": {},
     "output_type": "execute_result"
    }
   ],
   "source": [
    "# remove cell index 41\n",
    "table.drop([41,50,46], inplace=True)\n",
    "#np.unique(mask.ravel())\n",
    "table"
   ]
  },
  {
   "cell_type": "code",
   "execution_count": 20,
   "id": "57435721",
   "metadata": {},
   "outputs": [
    {
     "data": {
      "text/plain": [
       "<matplotlib.image.AxesImage at 0x22955278f08>"
      ]
     },
     "execution_count": 20,
     "metadata": {},
     "output_type": "execute_result"
    },
    {
     "data": {
      "image/png": "[encoded data removed]",
      "text/plain": [
       "<Figure size 432x288 with 1 Axes>"
      ]
     },
     "metadata": {
      "needs_background": "light"
     },
     "output_type": "display_data"
    }
   ],
   "source": [
    "labels = [31,30,32]\n",
    "for label in labels:\n",
    "    mask[mask==label]=0\n",
    "plt.imshow(mask)"
   ]
  },
  {
   "cell_type": "code",
   "execution_count": 3,
   "id": "e69d3e60",
   "metadata": {},
   "outputs": [],
   "source": [
    "# test Object removal function\n",
    "path_input = r'F:\\HAB_2\\PrinzScreen\\Deploy\\testData'\n",
    "file = 'exp001_13DKO_2-1.tif'\n",
    "AIPS_pose_object = AC.AIPS_cellpose(Image_name = file, path= path_input, model_type=\"cyto\", channels=[0,0])\n",
    "img = AIPS_pose_object.cellpose_image_load()\n",
    "mask, table = AIPS_pose_object.cellpose_segmantation(image_input=img[0,200:700,200:700])\n",
    "# dipObject = afd.Compsite_display(input_image=img[0,200:700,200:700], mask_roi=mask)\n",
    "# PIL_image = dipObject.display_image_label( table = table, font_select = \"arial.ttf\", font_size = 24)\n",
    "# plt.imshow(PIL_image)"
   ]
  },
  {
   "cell_type": "code",
   "execution_count": 4,
   "id": "d857b1ac",
   "metadata": {},
   "outputs": [],
   "source": [
    "dipObject = afd.Compsite_display(input_image=img[0,200:700,200:700], mask_roi=mask)\n",
    "counter = dipObject.draw_ROI_contour(channel=None)"
   ]
  },
  {
   "cell_type": "code",
   "execution_count": 5,
   "id": "6ed56dc2",
   "metadata": {},
   "outputs": [],
   "source": [
    "temp = dipObject.display_image_label( table = table, font_select = \"arial.ttf\", font_size = 24,contour=True,intensity = 2)"
   ]
  },
  {
   "cell_type": "code",
   "execution_count": 6,
   "id": "991b3a6b",
   "metadata": {},
   "outputs": [
    {
     "data": {
      "text/plain": [
       "<matplotlib.image.AxesImage at 0x21df2363f08>"
      ]
     },
     "execution_count": 6,
     "metadata": {},
     "output_type": "execute_result"
    },
    {
     "data": {
      "image/png": "[encoded data removed]",
      "text/plain": [
       "<Figure size 432x288 with 1 Axes>"
      ]
     },
     "metadata": {
      "needs_background": "light"
     },
     "output_type": "display_data"
    }
   ],
   "source": [
    "plt.imshow(temp)"
   ]
  },
  {
   "cell_type": "code",
   "execution_count": 8,
   "id": "b3931aa1",
   "metadata": {},
   "outputs": [],
   "source": [
    "temp.save(\"img1.png\",\"PNG\")"
   ]
  },
  {
   "cell_type": "code",
   "execution_count": 10,
   "id": "97f50908",
   "metadata": {},
   "outputs": [],
   "source": [
    "objectidx = table.loc[table['area'] < 500,:].index.tolist() "
   ]
  },
  {
   "cell_type": "code",
   "execution_count": 11,
   "id": "b8dc1ff1",
   "metadata": {},
   "outputs": [
    {
     "ename": "TypeError",
     "evalue": "cannot unpack non-iterable NoneType object",
     "output_type": "error",
     "traceback": [
      "\u001b[1;31m---------------------------------------------------------------------------\u001b[0m",
      "\u001b[1;31mTypeError\u001b[0m                                 Traceback (most recent call last)",
      "\u001b[1;32m~\\AppData\\Local\\Temp\\ipykernel_26456\\62247731.py\u001b[0m in \u001b[0;36m<module>\u001b[1;34m\u001b[0m\n\u001b[1;32m----> 1\u001b[1;33m \u001b[0mmask\u001b[0m\u001b[1;33m,\u001b[0m \u001b[0mtable\u001b[0m \u001b[1;33m=\u001b[0m \u001b[0mAIPS_pose_object\u001b[0m\u001b[1;33m.\u001b[0m\u001b[0mremoveObjects\u001b[0m\u001b[1;33m(\u001b[0m\u001b[0mobjectList\u001b[0m \u001b[1;33m=\u001b[0m \u001b[0mobjectidx\u001b[0m\u001b[1;33m)\u001b[0m\u001b[1;33m\u001b[0m\u001b[1;33m\u001b[0m\u001b[0m\n\u001b[0m\u001b[0;32m      2\u001b[0m \u001b[0mdipObject\u001b[0m \u001b[1;33m=\u001b[0m \u001b[0mafd\u001b[0m\u001b[1;33m.\u001b[0m\u001b[0mCompsite_display\u001b[0m\u001b[1;33m(\u001b[0m\u001b[0minput_image\u001b[0m\u001b[1;33m=\u001b[0m\u001b[0mimg\u001b[0m\u001b[1;33m[\u001b[0m\u001b[1;36m0\u001b[0m\u001b[1;33m,\u001b[0m\u001b[1;36m200\u001b[0m\u001b[1;33m:\u001b[0m\u001b[1;36m700\u001b[0m\u001b[1;33m,\u001b[0m\u001b[1;36m200\u001b[0m\u001b[1;33m:\u001b[0m\u001b[1;36m700\u001b[0m\u001b[1;33m]\u001b[0m\u001b[1;33m,\u001b[0m \u001b[0mmask_roi\u001b[0m\u001b[1;33m=\u001b[0m\u001b[0mmask\u001b[0m\u001b[1;33m)\u001b[0m\u001b[1;33m\u001b[0m\u001b[1;33m\u001b[0m\u001b[0m\n\u001b[0;32m      3\u001b[0m \u001b[0mfinalImage\u001b[0m \u001b[1;33m=\u001b[0m \u001b[0mdipObject\u001b[0m\u001b[1;33m.\u001b[0m\u001b[0mdraw_ROI_contour\u001b[0m\u001b[1;33m(\u001b[0m\u001b[0mchannel\u001b[0m\u001b[1;33m=\u001b[0m\u001b[1;32mNone\u001b[0m\u001b[1;33m)\u001b[0m\u001b[1;33m\u001b[0m\u001b[1;33m\u001b[0m\u001b[0m\n\u001b[0;32m      4\u001b[0m \u001b[0mtemp\u001b[0m \u001b[1;33m=\u001b[0m \u001b[0mdipObject\u001b[0m\u001b[1;33m.\u001b[0m\u001b[0mdisplay_image_label\u001b[0m\u001b[1;33m(\u001b[0m\u001b[0mtable\u001b[0m \u001b[1;33m=\u001b[0m \u001b[0mtable\u001b[0m\u001b[1;33m,\u001b[0m \u001b[0mfont_select\u001b[0m \u001b[1;33m=\u001b[0m \u001b[1;34m\"arial.ttf\"\u001b[0m\u001b[1;33m,\u001b[0m \u001b[0mfont_size\u001b[0m \u001b[1;33m=\u001b[0m \u001b[1;36m24\u001b[0m\u001b[1;33m,\u001b[0m\u001b[0mcontour\u001b[0m\u001b[1;33m=\u001b[0m\u001b[1;32mTrue\u001b[0m\u001b[1;33m,\u001b[0m\u001b[0mintensity\u001b[0m \u001b[1;33m=\u001b[0m \u001b[1;36m3\u001b[0m\u001b[1;33m)\u001b[0m\u001b[1;33m\u001b[0m\u001b[1;33m\u001b[0m\u001b[0m\n\u001b[0;32m      5\u001b[0m \u001b[0mplt\u001b[0m\u001b[1;33m.\u001b[0m\u001b[0mimshow\u001b[0m\u001b[1;33m(\u001b[0m\u001b[0mtemp\u001b[0m\u001b[1;33m)\u001b[0m\u001b[1;33m\u001b[0m\u001b[1;33m\u001b[0m\u001b[0m\n",
      "\u001b[1;31mTypeError\u001b[0m: cannot unpack non-iterable NoneType object"
     ]
    }
   ],
   "source": [
    "mask, table = AIPS_pose_object.removeObjects(objectList = objectidx)\n",
    "dipObject = afd.Compsite_display(input_image=img[0,200:700,200:700], mask_roi=mask)\n",
    "finalImage = dipObject.draw_ROI_contour(channel=None)\n",
    "temp = dipObject.display_image_label(table = table, font_select = \"arial.ttf\", font_size = 24,contour=True,intensity = 3)\n",
    "plt.imshow(temp)"
   ]
  },
  {
   "cell_type": "code",
   "execution_count": 2,
   "id": "7010f6dd",
   "metadata": {},
   "outputs": [
    {
     "name": "stderr",
     "output_type": "stream",
     "text": [
      "WARNING (theano.tensor.blas): Using NumPy C-API based implementation for BLAS functions.\n"
     ]
    },
    {
     "name": "stdout",
     "output_type": "stream",
     "text": [
      "3.11.5\n"
     ]
    }
   ],
   "source": [
    "import pandas as pd\n",
    "import sys\n",
    "import numpy as np\n",
    "np.set_printoptions(threshold=sys.maxsize)\n",
    "\n",
    "import matplotlib.pyplot as plt\n",
    "from PIL import Image, ImageEnhance, ImageDraw,ImageFont\n",
    "import seaborn as sns\n",
    "#sns.set()\n",
    "import arviz as az\n",
    "import pymc3 as pm\n",
    "print(pm.__version__)\n",
    "import theano.tensor as tt\n",
    "import patsy\n",
    "\n",
    "import os\n",
    "import re\n",
    "import glob\n",
    "import random\n",
    "# import plotnine\n",
    "from sklearn import preprocessing\n",
    "from tqdm import tqdm\n",
    "\n",
    "import plotly.express as px\n",
    "\n",
    "from skimage import measure, restoration,morphology\n",
    "from skimage import io, filters, measure, color, img_as_ubyte\n",
    "from skimage.draw import disk\n",
    "from skimage import measure, restoration,morphology\n",
    "\n",
    "RANDOM_SEED = 8927\n",
    "np.random.seed(RANDOM_SEED)\n",
    "os.chdir(r'F:\\HAB_2\\PrinzScreen\\Deploy')\n",
    "from utils import AIPS_module as ai\n",
    "from utils import AIPS_functions as af\n",
    "from utils import AIPS_granularity as ag\n"
   ]
  },
  {
   "cell_type": "code",
   "execution_count": 3,
   "id": "c8017870",
   "metadata": {},
   "outputs": [],
   "source": [
    "path_input =  r'F:\\HAB_2\\PrinzScreen\\Deploy\\unitest'\n",
    "files = glob.glob(pathname=path_input+\"\\*.csv\")\n",
    "\n",
    "#dfMergeFinel = pd.read_csv(os.path.join(path_input,file))\n",
    "dfMergeFinel = ag.MERGE().mergeTable(tableInput_name_list = files)\n",
    "dfMergeFinelFitelrd = ag.MERGE().calcDecay(dfMergeFinel,5)"
   ]
  },
  {
   "cell_type": "code",
   "execution_count": 4,
   "id": "06bdd0bd",
   "metadata": {},
   "outputs": [
    {
     "name": "stderr",
     "output_type": "stream",
     "text": [
      "F:\\Gil\\anaconda\\envs\\pymc3_cellpose_dash\\lib\\site-packages\\deprecat\\classic.py:215: FutureWarning: In v4.0, pm.sample will return an `arviz.InferenceData` object instead of a `MultiTrace` by default. You can pass return_inferencedata=True or return_inferencedata=False to be safe and silence this warning.\n",
      "  return wrapped_(*args_, **kwargs_)\n",
      "Auto-assigning NUTS sampler...\n",
      "Initializing NUTS using jitter+adapt_diag...\n",
      "Multiprocess sampling (4 chains in 4 jobs)\n",
      "NUTS: [b, a]\n"
     ]
    },
    {
     "data": {
      "text/html": [
       "\n",
       "<style>\n",
       "    /* Turns off some styling */\n",
       "    progress {\n",
       "        /* gets rid of default border in Firefox and Opera. */\n",
       "        border: none;\n",
       "        /* Needs to be in here for Safari polyfill so background images work as expected. */\n",
       "        background-size: auto;\n",
       "    }\n",
       "    .progress-bar-interrupted, .progress-bar-interrupted::-webkit-progress-bar {\n",
       "        background: #F44336;\n",
       "    }\n",
       "</style>\n"
      ],
      "text/plain": [
       "<IPython.core.display.HTML object>"
      ]
     },
     "metadata": {},
     "output_type": "display_data"
    },
    {
     "data": {
      "text/html": [
       "\n",
       "    <div>\n",
       "      <progress value='4000' class='' max='4000' style='width:300px; height:20px; vertical-align: middle;'></progress>\n",
       "      100.00% [4000/4000 00:13<00:00 Sampling 4 chains, 0 divergences]\n",
       "    </div>\n",
       "    "
      ],
      "text/plain": [
       "<IPython.core.display.HTML object>"
      ]
     },
     "metadata": {},
     "output_type": "display_data"
    },
    {
     "name": "stderr",
     "output_type": "stream",
     "text": [
      "Sampling 4 chains for 500 tune and 500 draw iterations (2_000 + 2_000 draws total) took 41 seconds.\n",
      "The number of effective samples is smaller than 25% for some parameters.\n"
     ]
    }
   ],
   "source": [
    "rate = dfMergeFinelFitelrd.intensity.values\n",
    "y_0 = dfMergeFinelFitelrd.classLabel.values\n",
    "with pm.Model() as model_logistic_basic:\n",
    "    a = pm.Normal('a',0,10)\n",
    "    b = pm.Normal('b',0,10)\n",
    "    mu = a + pm.math.dot(rate,b)\n",
    "    theta = pm.Deterministic('theta', 1 / (1 + pm.math.exp(-mu)))\n",
    "    bd = pm.Deterministic('bd',-a/b)\n",
    "    yl = pm.Bernoulli('yl',theta,observed = y_0)\n",
    "    trace = pm.sample(500, tune=500, target_accept=0.99,random_seed=RANDOM_SEED)\n",
    "idata = az.from_pymc3(trace, model=model_logistic_basic)"
   ]
  },
  {
   "cell_type": "code",
   "execution_count": 5,
   "id": "6fecbc15",
   "metadata": {},
   "outputs": [
    {
     "data": {
      "text/plain": [
       "[<matplotlib.lines.Line2D at 0x1bf66bd6ac8>]"
      ]
     },
     "execution_count": 5,
     "metadata": {},
     "output_type": "execute_result"
    },
    {
     "data": {
      "image/png": "[encoded data removed]",
      "text/plain": [
       "<Figure size 432x288 with 1 Axes>"
      ]
     },
     "metadata": {
      "needs_background": "light"
     },
     "output_type": "display_data"
    }
   ],
   "source": [
    "theta = trace['theta'].mean(0)\n",
    "idx = np.argsort(rate)\n",
    "plt.plot(rate[idx],theta[idx],color ='b',lw=3)"
   ]
  },
  {
   "cell_type": "code",
   "execution_count": 6,
   "id": "0694689e",
   "metadata": {},
   "outputs": [
    {
     "data": {
      "text/plain": [
       "<matplotlib.lines.Line2D at 0x1bf66db9a08>"
      ]
     },
     "execution_count": 6,
     "metadata": {},
     "output_type": "execute_result"
    },
    {
     "data": {
      "image/png": "[encoded data removed]",
      "text/plain": [
       "<Figure size 432x288 with 1 Axes>"
      ]
     },
     "metadata": {
      "needs_background": "light"
     },
     "output_type": "display_data"
    }
   ],
   "source": [
    "plt.axvline(trace['bd'].mean(),ymax=1,color = 'r')"
   ]
  },
  {
   "cell_type": "code",
   "execution_count": 7,
   "id": "74a26afc",
   "metadata": {},
   "outputs": [
    {
     "data": {
      "text/plain": [
       "[<matplotlib.lines.Line2D at 0x1bf66e29688>]"
      ]
     },
     "execution_count": 7,
     "metadata": {},
     "output_type": "execute_result"
    },
    {
     "data": {
      "image/png": "[encoded data removed]",
      "text/plain": [
       "<Figure size 432x288 with 1 Axes>"
      ]
     },
     "metadata": {
      "needs_background": "light"
     },
     "output_type": "display_data"
    }
   ],
   "source": [
    "bd_hdi = pm.hdi(trace['bd'])\n",
    "plt.fill_betweenx([0,1],bd_hdi[0],bd_hdi[1], color = 'r')\n",
    "plt.plot(rate,y_0,'o',color = 'k')"
   ]
  },
  {
   "cell_type": "code",
   "execution_count": 8,
   "id": "c305c912",
   "metadata": {},
   "outputs": [
    {
     "data": {
      "text/plain": [
       "[<matplotlib.lines.Line2D at 0x1bf67ef0b48>]"
      ]
     },
     "execution_count": 8,
     "metadata": {},
     "output_type": "execute_result"
    },
    {
     "data": {
      "image/png": "[encoded data removed]",
      "text/plain": [
       "<Figure size 432x288 with 1 Axes>"
      ]
     },
     "metadata": {
      "needs_background": "light"
     },
     "output_type": "display_data"
    }
   ],
   "source": [
    "theta = trace['theta'].mean(0)\n",
    "idx = np.argsort(rate)\n",
    "fig, ax = plt.subplots()\n",
    "ax.plot(rate[idx],theta[idx],color ='b',lw=3)\n",
    "ax.axvline(trace['bd'].mean(),ymax=1,color = 'r')\n",
    "bd_hdi = pm.hdi(trace['bd'])\n",
    "ax.fill_betweenx([0,1],bd_hdi[0],bd_hdi[1], color = 'r')\n",
    "ax.plot(rate,y_0,'o',color = 'k')\n"
   ]
  },
  {
   "cell_type": "code",
   "execution_count": 22,
   "id": "00c677da",
   "metadata": {},
   "outputs": [
    {
     "data": {
      "text/plain": [
       "<AxesSubplot:>"
      ]
     },
     "execution_count": 22,
     "metadata": {},
     "output_type": "execute_result"
    },
    {
     "data": {
      "image/png": "[encoded data removed]",
      "text/plain": [
       "<Figure size 432x288 with 1 Axes>"
      ]
     },
     "metadata": {
      "needs_background": "light"
     },
     "output_type": "display_data"
    }
   ],
   "source": [
    "sns.pointplot(x =rate,  y = y_0, errorbars = None)"
   ]
  },
  {
   "cell_type": "code",
   "execution_count": 19,
   "id": "2bdd967e",
   "metadata": {},
   "outputs": [
    {
     "data": {
      "text/plain": [
       "array([0.8924626 , 0.81380428, 0.89172094, 0.90924562, 0.88621301,\n",
       "       0.85940938, 0.92070635, 0.81296649, 0.66217078, 0.89952204,\n",
       "       0.77894432, 0.91847291, 0.92133919, 0.92039241, 0.85878541,\n",
       "       0.90195524, 0.91044072, 0.68425763, 0.60335391, 0.89766089,\n",
       "       0.91661047, 0.70731557, 0.87757964, 0.91886577, 0.69245488,\n",
       "       0.69620571, 0.90553487, 0.9211085 , 0.83954902, 0.94104878,\n",
       "       0.63115368, 0.80092961, 0.66955095, 0.89127155, 0.95354987,\n",
       "       0.91445362, 0.88952351, 0.87578446, 0.95437613, 0.73754264,\n",
       "       0.74297269, 0.87458841, 0.66773841, 0.66300414, 0.61953035,\n",
       "       0.92117184, 0.80210118, 0.89238643, 0.91807726, 0.90717493,\n",
       "       0.7661914 , 0.90965558, 0.89979234, 0.63935981, 0.59793155,\n",
       "       0.88239991, 0.89656606, 0.93013171, 0.89090799, 0.67687738,\n",
       "       0.90994015, 0.90034529, 0.86097073, 0.87579545, 0.84665551,\n",
       "       0.59154894, 0.92278295, 0.60647375, 0.83771235, 0.88513263,\n",
       "       0.88796851, 0.58630934, 0.65902772, 0.88975488, 0.82782966,\n",
       "       0.89817301, 0.67470225, 0.72805885, 0.95408686, 0.91677917,\n",
       "       0.90495164, 0.92389807, 0.67240695, 0.89028004, 0.82679843,\n",
       "       0.85094126, 0.65994101, 0.64412407, 0.83921215, 0.9425192 ,\n",
       "       0.54961833, 0.89113709, 0.88644691, 0.88943789, 0.85817439,\n",
       "       0.7939081 , 0.87869019, 0.91211018, 0.91873242, 0.61307254,\n",
       "       0.87393275, 0.85432309, 0.59998675, 0.66771099, 0.91769175,\n",
       "       0.92895609, 0.88938227, 0.93823115, 0.67427369, 0.908624  ,\n",
       "       0.7074614 , 0.86891955, 0.78401382, 0.93163643, 0.91374219,\n",
       "       0.85483742, 0.86399713, 0.90183893, 0.92562014, 0.8556606 ,\n",
       "       0.63078373, 0.90546569, 0.89579805, 0.86317437, 0.92395636,\n",
       "       0.67524745, 0.89324809, 0.72618123, 0.90554042, 0.89314313,\n",
       "       0.69343181, 0.6517945 , 0.9048014 , 0.95173143, 0.89685547,\n",
       "       0.8864122 , 0.91330087, 0.70854512, 0.92492916, 0.92117085,\n",
       "       0.87346381, 0.94167794, 0.91309655, 0.92255828, 0.85660826,\n",
       "       0.90730814, 0.71659366, 0.93608117, 0.70334108, 0.7081592 ,\n",
       "       0.83990476, 0.65062231, 0.91713613, 0.87323752, 0.65184493,\n",
       "       0.93243008, 0.8886847 , 0.86607364, 0.88034669, 0.66207758,\n",
       "       0.88803561, 0.89024021, 0.87586406, 0.93803967, 0.84215669,\n",
       "       0.69703212, 0.89285296, 0.68055062, 0.64910894, 0.60094669,\n",
       "       0.78192361, 0.87101725, 0.93277246, 0.89801284, 0.91031455,\n",
       "       0.92711845, 0.86815792, 0.90826682, 0.86579958])"
      ]
     },
     "execution_count": 19,
     "metadata": {},
     "output_type": "execute_result"
    }
   ],
   "source": [
    "rate"
   ]
  },
  {
   "cell_type": "code",
   "execution_count": 25,
   "id": "9b82b891",
   "metadata": {},
   "outputs": [],
   "source": [
    "from matplotlib.backends.backend_pdf import PdfPages\n",
    "path_input = r'F:\\HAB_2\\PrinzScreen\\Deploy\\unitest'\n",
    "with PdfPages(os.path.join(path_input,'multipage_pdf.pdf')) as pdf:\n",
    "    idx = np.argsort(rate)\n",
    "    plt.figure(figsize=(3, 3))\n",
    "    plt.plot(rate[idx],theta[idx],color ='b',lw=3)\n",
    "    plt.axvline(trace['bd'].mean(),ymax=1,color = 'r')\n",
    "    bd_hdi = pm.hdi(trace['bd'])\n",
    "    plt.fill_betweenx([0,1],bd_hdi[0],bd_hdi[1], color = 'r')\n",
    "    plt.plot(rate,y_0,'o',color = 'k')\n",
    "    pdf.savefig()\n",
    "    plt.close()"
   ]
  },
  {
   "cell_type": "code",
   "execution_count": 27,
   "id": "6ad296d2",
   "metadata": {},
   "outputs": [
    {
     "name": "stderr",
     "output_type": "stream",
     "text": [
      "Got error No model on context stack. trying to find log_likelihood in translation.\n",
      "F:\\Gil\\anaconda\\envs\\pymc3_cellpose_dash\\lib\\site-packages\\arviz\\data\\io_pymc3_3x.py:102: FutureWarning: Using `from_pymc3` without the model will be deprecated in a future release. Not using the model will return less accurate and less useful results. Make sure you use the model argument or call from_pymc3 within a model context.\n",
      "  FutureWarning,\n",
      "Got error No model on context stack. trying to find log_likelihood in translation.\n"
     ]
    },
    {
     "data": {
      "text/plain": [
       "<Figure size 216x216 with 0 Axes>"
      ]
     },
     "metadata": {},
     "output_type": "display_data"
    },
    {
     "data": {
      "text/plain": [
       "<Figure size 216x216 with 0 Axes>"
      ]
     },
     "metadata": {},
     "output_type": "display_data"
    }
   ],
   "source": [
    "from matplotlib.backends.backend_pdf import PdfPages\n",
    "path_input = r'F:\\HAB_2\\PrinzScreen\\Deploy\\unitest'\n",
    "with PdfPages(os.path.join(path_input,'multipage_pdf.pdf')) as pdf:\n",
    "    plt.figure(figsize=(3, 3))\n",
    "    plt.title('Trace Plot')\n",
    "    az.plot_trace(trace,figsize = (12,6),compact= True)\n",
    "    pdf.savefig()\n",
    "    plt.close()\n",
    "\n",
    "    idx = np.argsort(rate)\n",
    "    plt.figure(figsize=(3, 3))\n",
    "    plt.title('Boundery plot')\n",
    "    plt.plot(rate[idx],theta[idx],color ='b',lw=3)\n",
    "    plt.axvline(trace['bd'].mean(),ymax=1,color = 'r')\n",
    "    bd_hdi = pm.hdi(trace['bd'])\n",
    "    plt.fill_betweenx([0,1],bd_hdi[0],bd_hdi[1], color = 'r')\n",
    "    plt.plot(rate,y_0,'o',color = 'k')\n",
    "    pdf.savefig()\n",
    "    plt.close()\n",
    "    \n",
    "    \n",
    "\n",
    "    \n",
    "    "
   ]
  },
  {
   "cell_type": "code",
   "execution_count": 5,
   "id": "e8769b0a",
   "metadata": {},
   "outputs": [
    {
     "data": {
      "image/png": "[encoded data removed]",
      "text/plain": [
       "<Figure size 432x288 with 2 Axes>"
      ]
     },
     "metadata": {
      "needs_background": "light"
     },
     "output_type": "display_data"
    }
   ],
   "source": [
    "from sklearn import metrics \n",
    "\n",
    "rate = dfMergeFinelFitelrd.intensity.values\n",
    "y_0 = dfMergeFinelFitelrd.classLabel.values\n",
    "\n",
    "\n",
    "def classify(n,thold):\n",
    "    mu = trace['a'].mean() + trace['b'].mean() * n\n",
    "    prob = 1 /(1  + np.exp(-mu))\n",
    "    return prob, prob > thold\n",
    "rate = dfMergeFinelFitelrd.intensity.values\n",
    "td = 0.5\n",
    "prob,prediction = classify(rate,td)\n",
    "\n",
    "confusion_matrix = metrics.confusion_matrix(np.array(dfMergeFinelFitelrd.classLabel.values,dtype = int), np.where(prediction,1,0)) \n",
    "cm_display = metrics.ConfusionMatrixDisplay(confusion_matrix = confusion_matrix, display_labels = [False, True])\n",
    "cm_display.plot()\n",
    "plt.text(0.01, 0.5, \"x\", fontsize=10, transform=plt.gcf().transFigure)\n",
    "plt.text(0.01, 0.4, \"y\", fontsize=10, transform=plt.gcf().transFigure)\n",
    "plt.text(0.01, 0.4, \"y\", fontsize=10, transform=plt.gcf().transFigure)\n",
    "plt.show() \n",
    "\n",
    "\n",
    "\n"
   ]
  },
  {
   "cell_type": "code",
   "execution_count": 18,
   "id": "e0e342a5",
   "metadata": {},
   "outputs": [
    {
     "data": {
      "text/plain": [
       "31.215097768574996"
      ]
     },
     "execution_count": 18,
     "metadata": {},
     "output_type": "execute_result"
    }
   ],
   "source": [
    "trace['b'].mean()"
   ]
  },
  {
   "cell_type": "code",
   "execution_count": 15,
   "id": "593d9df5",
   "metadata": {},
   "outputs": [
    {
     "data": {
      "text/plain": [
       "31.215097768574996"
      ]
     },
     "execution_count": 15,
     "metadata": {},
     "output_type": "execute_result"
    }
   ],
   "source": [
    "trace['b'].mean()"
   ]
  },
  {
   "cell_type": "code",
   "execution_count": 6,
   "id": "56265d32",
   "metadata": {},
   "outputs": [
    {
     "name": "stdout",
     "output_type": "stream",
     "text": [
      "[1 1 1 1 1 1 0 1 0 1 1 0 1 1 1 0 0 0 1 0 1 1 1 1 1 1 1 1 1 1 0 1 1 1 1 1 1\n",
      " 1 0 0 0 0 0 1 0 1 1 1 1 1 1 1 0 0 1 1 1 1 1 1 1 0 1 1 1 0 1 1 1 1 0 0 1 1\n",
      " 0 1 1 0 0 0 0 1 1 0 1 1 1 1 1 1 1 1 1 1 0 0 0 1 1 1 0 1 0 1 1 0 1 1 1 0 1\n",
      " 1 1 1 1 1 1 1 1 0 1 1 1 0 0 1 0 1 1 1 1 0 1 1 1 0 1 1 1 0 1 1 1 1 1 1 0 0\n",
      " 0 0 1 1 0 1 0 1 0 1 1 1 1 1 1 0 1 1 1 1 1 0 0 1 1 0 0 1 0 1 0] \n",
      "\n",
      " [1 1 1 1 1 1 0 1 0 1 1 0 1 1 1 0 0 1 1 0 1 1 1 1 1 1 1 1 1 1 0 1 1 1 1 1 1\n",
      " 1 0 0 0 0 0 1 0 1 1 1 1 1 1 1 0 0 1 1 1 1 1 1 1 0 1 1 1 0 1 1 1 1 0 0 1 1\n",
      " 0 1 1 1 0 1 0 1 1 0 1 1 1 1 1 1 1 1 1 1 0 0 0 1 1 1 0 1 1 1 1 0 1 1 1 0 1\n",
      " 1 1 1 1 1 1 1 1 0 1 1 1 0 0 1 0 1 1 1 1 0 1 1 1 0 1 1 1 0 1 1 1 1 1 1 0 0\n",
      " 0 0 1 1 0 1 0 1 0 1 1 1 1 1 1 0 1 1 1 1 1 0 0 1 1 0 0 1 0 1 0]\n"
     ]
    }
   ],
   "source": [
    "from sklearn.metrics import precision_recall_fscore_support\n",
    "y_true = y_0\n",
    "y_pred = np.where(prediction==True,1,0)\n",
    "print ('{} \\n\\n {}'.format(y_true,y_pred))\n",
    " "
   ]
  },
  {
   "cell_type": "code",
   "execution_count": 9,
   "id": "e4eef37a",
   "metadata": {},
   "outputs": [],
   "source": [
    "x = precision_recall_fscore_support(y_true, y_pred, average='macro')"
   ]
  },
  {
   "cell_type": "code",
   "execution_count": 12,
   "id": "3938808c",
   "metadata": {},
   "outputs": [
    {
     "data": {
      "text/plain": [
       "0.984"
      ]
     },
     "execution_count": 12,
     "metadata": {},
     "output_type": "execute_result"
    }
   ],
   "source": [
    "np.round(x[0],2)"
   ]
  },
  {
   "cell_type": "code",
   "execution_count": null,
   "id": "3d970579",
   "metadata": {},
   "outputs": [],
   "source": []
  }
 ],
 "metadata": {
  "kernelspec": {
   "display_name": "Python [conda env:pymc3_cellpose_dash] *",
   "language": "python",
   "name": "conda-env-pymc3_cellpose_dash-py"
  },
  "language_info": {
   "codemirror_mode": {
    "name": "ipython",
    "version": 3
   },
   "file_extension": ".py",
   "mimetype": "text/x-python",
   "name": "python",
   "nbconvert_exporter": "python",
   "pygments_lexer": "ipython3",
   "version": "3.7.12"
  },
  "latex_envs": {
   "LaTeX_envs_menu_present": true,
   "autoclose": false,
   "autocomplete": true,
   "bibliofile": "biblio.bib",
   "cite_by": "apalike",
   "current_citInitial": 1,
   "eqLabelWithNumbers": true,
   "eqNumInitial": 1,
   "hotkeys": {
    "equation": "Ctrl-E",
    "itemize": "Ctrl-I"
   },
   "labels_anchors": false,
   "latex_user_defs": false,
   "report_style_numbering": false,
   "user_envs_cfg": false
  }
 },
 "nbformat": 4,
 "nbformat_minor": 5
}
